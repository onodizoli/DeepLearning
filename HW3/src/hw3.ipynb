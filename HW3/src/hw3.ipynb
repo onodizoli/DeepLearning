{
 "cells": [
  {
   "cell_type": "markdown",
   "metadata": {},
   "source": [
    "## ECBM E6040 Homework 3 - Programming Problem"
   ]
  },
  {
   "cell_type": "code",
   "execution_count": 1,
   "metadata": {
    "collapsed": false
   },
   "outputs": [
    {
     "name": "stderr",
     "output_type": "stream",
     "text": [
      "Using gpu device 0: GRID K520\n"
     ]
    }
   ],
   "source": [
    "import matplotlib\n",
    "import pylab\n",
    "import numpy as np\n",
    "%matplotlib inline\n",
    "from hw3a import test_mlp, test_noise_inject_at_input, test_noise_injection_at_weight, test_data_augmentation\n",
    "from hw3b import test_lenet, test_convnet, test_CDNN"
   ]
  },
  {
   "cell_type": "markdown",
   "metadata": {},
   "source": [
    "### Problem a: Regularization Methods for Neural Network\n",
    "#### Bullet 1: Implement a MLP"
   ]
  },
  {
   "cell_type": "markdown",
   "metadata": {},
   "source": [
    "I implemented an MLP with 5 hidden layers and 500 neurons each. I chose a stepsize of 0.05 and did not ude any regularization as requested. I was working with the same parameters in the previous asignment and achieved good predicitons so I reused my settings."
   ]
  },
  {
   "cell_type": "code",
   "execution_count": 40,
   "metadata": {
    "collapsed": false
   },
   "outputs": [
    {
     "name": "stdout",
     "output_type": "stream",
     "text": [
      "... building the model\n",
      "... training\n",
      "Optimization complete.\n",
      "Best validation score of 25.710227 % obtained at iteration 9991, with test performance 28.140394 %\n"
     ]
    },
    {
     "name": "stderr",
     "output_type": "stream",
     "text": [
      "The training process for function test_mlp ran for 0.96m\n"
     ]
    }
   ],
   "source": [
    "test_mlp(learning_rate=0.05, L1_reg=0.00, L2_reg=0.00, n_epochs=200,\n",
    "             batch_size=128, n_hidden=500, n_hiddenLayers=5,\n",
    "             verbose=False, smaller_set=True)"
   ]
  },
  {
   "cell_type": "markdown",
   "metadata": {},
   "source": [
    "On the smaller dataset, I achieved 71.84% test accuracy.\n",
    "I ran the same settings on the completee dataset."
   ]
  },
  {
   "cell_type": "code",
   "execution_count": 7,
   "metadata": {
    "collapsed": false
   },
   "outputs": [
    {
     "name": "stdout",
     "output_type": "stream",
     "text": [
      "... building the model\n",
      "... training\n",
      "Optimization complete.\n",
      "Best validation score of 20.490680 % obtained at iteration 9785, with test performance 22.610068 %\n"
     ]
    },
    {
     "name": "stderr",
     "output_type": "stream",
     "text": [
      "The training process for function test_mlp ran for 0.87m\n"
     ]
    }
   ],
   "source": [
    "test_mlp(learning_rate=0.05, L1_reg=0.00, L2_reg=0.00, n_epochs=200,\n",
    "             batch_size=128, n_hidden=500, n_hiddenLayers=5,\n",
    "             verbose=False, smaller_set=False)"
   ]
  },
  {
   "cell_type": "markdown",
   "metadata": {},
   "source": [
    "On the complete dataset I achieved 77.49% test accuracy, which is much greater then on the smaller dataset"
   ]
  },
  {
   "cell_type": "markdown",
   "metadata": {},
   "source": [
    "#### Bullet 2: Experiment with noise injection at input"
   ]
  },
  {
   "cell_type": "markdown",
   "metadata": {},
   "source": [
    "For noise injection on the inputs, I used the same model as in i. I iterated through different levels on noise which i pass through the argument nu. The noise added is a gaussian, with zero mean, and covariance of nu*I. I started with a value of 0.1, and decreased it to 0.0001."
   ]
  },
  {
   "cell_type": "code",
   "execution_count": 9,
   "metadata": {
    "collapsed": false
   },
   "outputs": [
    {
     "name": "stdout",
     "output_type": "stream",
     "text": [
      "... building the model\n",
      "... training\n",
      "Optimization complete.\n",
      "Best validation score of 30.397727 % obtained at iteration 9785, with test performance 30.845905 %\n"
     ]
    },
    {
     "name": "stderr",
     "output_type": "stream",
     "text": [
      "The training process for function test_noise_inject_at_input ran for 0.80m\n"
     ]
    }
   ],
   "source": [
    "test_noise_inject_at_input(nu = 0.1, learning_rate=0.05, L1_reg=0.00,\n",
    "             L2_reg=0.0000, n_epochs=200,\n",
    "             batch_size=128, n_hidden=500, n_hiddenLayers=5,\n",
    "             verbose=False)"
   ]
  },
  {
   "cell_type": "code",
   "execution_count": 10,
   "metadata": {
    "collapsed": false
   },
   "outputs": [
    {
     "name": "stdout",
     "output_type": "stream",
     "text": [
      "... building the model\n",
      "... training\n",
      "Optimization complete.\n",
      "Best validation score of 30.965909 % obtained at iteration 7725, with test performance 32.947198 %\n"
     ]
    },
    {
     "name": "stderr",
     "output_type": "stream",
     "text": [
      "The training process for function test_noise_inject_at_input ran for 0.80m\n"
     ]
    }
   ],
   "source": [
    "test_noise_inject_at_input(nu = 0.05, learning_rate=0.05, L1_reg=0.00,\n",
    "             L2_reg=0.0000, n_epochs=200,\n",
    "             batch_size=128, n_hidden=500, n_hiddenLayers=5,\n",
    "             verbose=False)"
   ]
  },
  {
   "cell_type": "code",
   "execution_count": 12,
   "metadata": {
    "collapsed": false
   },
   "outputs": [
    {
     "name": "stdout",
     "output_type": "stream",
     "text": [
      "... building the model\n",
      "... training\n",
      "Optimization complete.\n",
      "Best validation score of 26.988636 % obtained at iteration 9785, with test performance 29.425800 %\n"
     ]
    },
    {
     "name": "stderr",
     "output_type": "stream",
     "text": [
      "The training process for function test_noise_inject_at_input ran for 0.80m\n"
     ]
    }
   ],
   "source": [
    "test_noise_inject_at_input(nu = 0.01, learning_rate=0.05, L1_reg=0.00,\n",
    "             L2_reg=0.0000, n_epochs=200,\n",
    "             batch_size=128, n_hidden=500, n_hiddenLayers=5,\n",
    "             verbose=False)"
   ]
  },
  {
   "cell_type": "code",
   "execution_count": 2,
   "metadata": {
    "collapsed": false
   },
   "outputs": [
    {
     "name": "stdout",
     "output_type": "stream",
     "text": [
      "... building the model\n",
      "... training\n",
      "Optimization complete.\n",
      "Best validation score of 26.562500 % obtained at iteration 9785, with test performance 28.602217 %\n"
     ]
    },
    {
     "name": "stderr",
     "output_type": "stream",
     "text": [
      "The training process for function test_noise_inject_at_input ran for 0.78m\n"
     ]
    }
   ],
   "source": [
    "test_noise_inject_at_input(nu = 0.005, learning_rate=0.05, L1_reg=0.00,\n",
    "             L2_reg=0.0000, n_epochs=200,\n",
    "             batch_size=128, n_hidden=500, n_hiddenLayers=5,\n",
    "             verbose=False)"
   ]
  },
  {
   "cell_type": "code",
   "execution_count": 3,
   "metadata": {
    "collapsed": false
   },
   "outputs": [
    {
     "name": "stdout",
     "output_type": "stream",
     "text": [
      "... building the model\n",
      "... training\n",
      "Optimization complete.\n",
      "Best validation score of 26.420455 % obtained at iteration 9270, with test performance 28.725369 %\n"
     ]
    },
    {
     "name": "stderr",
     "output_type": "stream",
     "text": [
      "The training process for function test_noise_inject_at_input ran for 0.79m\n"
     ]
    }
   ],
   "source": [
    "test_noise_inject_at_input(nu = 0.001, learning_rate=0.05, L1_reg=0.00,\n",
    "             L2_reg=0.0000, n_epochs=200,\n",
    "             batch_size=128, n_hidden=500, n_hiddenLayers=5,\n",
    "             verbose=False)"
   ]
  },
  {
   "cell_type": "code",
   "execution_count": 5,
   "metadata": {
    "collapsed": false
   },
   "outputs": [
    {
     "name": "stdout",
     "output_type": "stream",
     "text": [
      "... building the model\n",
      "... training\n",
      "Optimization complete.\n",
      "Best validation score of 26.704545 % obtained at iteration 9785, with test performance 29.137161 %\n"
     ]
    },
    {
     "name": "stderr",
     "output_type": "stream",
     "text": [
      "The training process for function test_noise_inject_at_input ran for 0.79m\n"
     ]
    }
   ],
   "source": [
    "test_noise_inject_at_input(nu = 0.0005, learning_rate=0.05, L1_reg=0.00,\n",
    "             L2_reg=0.0000, n_epochs=200,\n",
    "             batch_size=128, n_hidden=500, n_hiddenLayers=5,\n",
    "             verbose=False)"
   ]
  },
  {
   "cell_type": "code",
   "execution_count": 30,
   "metadata": {
    "collapsed": false
   },
   "outputs": [
    {
     "name": "stdout",
     "output_type": "stream",
     "text": [
      "... building the model\n",
      "... training\n",
      "Optimization complete.\n",
      "Best validation score of 25.852273 % obtained at iteration 9785, with test performance 29.244920 %\n"
     ]
    },
    {
     "name": "stderr",
     "output_type": "stream",
     "text": [
      "The training process for function test_noise_inject_at_input ran for 0.80m\n"
     ]
    }
   ],
   "source": [
    "test_noise_inject_at_input(nu = 0.0001, learning_rate=0.05, L1_reg=0.00,\n",
    "             L2_reg=0.0000, n_epochs=200,\n",
    "             batch_size=128, n_hidden=500, n_hiddenLayers=5,\n",
    "             verbose=False)"
   ]
  },
  {
   "cell_type": "markdown",
   "metadata": {},
   "source": [
    "As it can be seen, my best result was achieved with nu=0.001. My test accuracy is 71.4%, which is in the same range as my test accuracy on the smaller dataset in i. This is contraversial, because technically I am using more data (5 times). Noise injection on inputs should make are model more robust towards local perturbances on inputs."
   ]
  },
  {
   "cell_type": "markdown",
   "metadata": {},
   "source": [
    "#### Bullet 3: Experiment with noise injection at weights"
   ]
  },
  {
   "cell_type": "markdown",
   "metadata": {},
   "source": [
    "For noise injection on weights, i inject a random normal noise on the paramers with mean 0 and variance eta. I tried out different levels of noise since initially I was not achieving sufficent accuracy due to the noise beaing too large."
   ]
  },
  {
   "cell_type": "code",
   "execution_count": 7,
   "metadata": {
    "collapsed": false
   },
   "outputs": [
    {
     "name": "stdout",
     "output_type": "stream",
     "text": [
      "... building the model\n",
      "... training\n",
      "Optimization complete.\n",
      "Best validation score of 81.392045 % obtained at iteration 103, with test performance 80.414871 %\n"
     ]
    },
    {
     "name": "stderr",
     "output_type": "stream",
     "text": [
      "The training process for function test_noise_injection_at_weight ran for 0.80m\n"
     ]
    }
   ],
   "source": [
    "test_noise_injection_at_weight(eta = 0.01, learning_rate=0.05,\n",
    "             L1_reg=0.00, L2_reg=0.0000, n_epochs=200,\n",
    "             batch_size=128, n_hidden=500, n_hiddenLayers=5,\n",
    "             verbose=False)"
   ]
  },
  {
   "cell_type": "code",
   "execution_count": 8,
   "metadata": {
    "collapsed": false
   },
   "outputs": [
    {
     "name": "stdout",
     "output_type": "stream",
     "text": [
      "... building the model\n",
      "... training\n",
      "Optimization complete.\n",
      "Best validation score of 81.392045 % obtained at iteration 309, with test performance 80.414871 %\n"
     ]
    },
    {
     "name": "stderr",
     "output_type": "stream",
     "text": [
      "The training process for function test_noise_injection_at_weight ran for 0.80m\n"
     ]
    }
   ],
   "source": [
    "test_noise_injection_at_weight(eta = 0.0001, learning_rate=0.05,\n",
    "             L1_reg=0.00, L2_reg=0.0000, n_epochs=200,\n",
    "             batch_size=128, n_hidden=500, n_hiddenLayers=5,\n",
    "             verbose=False)"
   ]
  },
  {
   "cell_type": "code",
   "execution_count": 12,
   "metadata": {
    "collapsed": false
   },
   "outputs": [
    {
     "name": "stdout",
     "output_type": "stream",
     "text": [
      "... building the model\n",
      "... training\n",
      "Optimization complete.\n",
      "Best validation score of 81.392045 % obtained at iteration 103, with test performance 80.411022 %\n"
     ]
    },
    {
     "name": "stderr",
     "output_type": "stream",
     "text": [
      "The training process for function test_noise_injection_at_weight ran for 1.34m\n"
     ]
    }
   ],
   "source": [
    "test_noise_injection_at_weight(eta = 0.00001, learning_rate=0.05,\n",
    "             L1_reg=0.00, L2_reg=0.0000, n_epochs=200,\n",
    "             batch_size=128, n_hidden=500, n_hiddenLayers=5,\n",
    "             verbose=False)"
   ]
  },
  {
   "cell_type": "code",
   "execution_count": 33,
   "metadata": {
    "collapsed": false
   },
   "outputs": [
    {
     "name": "stdout",
     "output_type": "stream",
     "text": [
      "... building the model\n",
      "... training\n",
      "Optimization complete.\n",
      "Best validation score of 25.923295 % obtained at iteration 9888, with test performance 28.506004 %\n"
     ]
    },
    {
     "name": "stderr",
     "output_type": "stream",
     "text": [
      "The training process for function test_noise_injection_at_weight ran for 1.02m\n"
     ]
    }
   ],
   "source": [
    "test_noise_injection_at_weight(eta = 0.000001, learning_rate=0.05,\n",
    "             L1_reg=0.00, L2_reg=0.0000, n_epochs=200,\n",
    "             batch_size=128, n_hidden=500, n_hiddenLayers=5,\n",
    "             verbose=False)"
   ]
  },
  {
   "cell_type": "code",
   "execution_count": 13,
   "metadata": {
    "collapsed": false
   },
   "outputs": [
    {
     "name": "stdout",
     "output_type": "stream",
     "text": [
      "... building the model\n",
      "... training\n",
      "Optimization complete.\n",
      "Best validation score of 26.207386 % obtained at iteration 9373, with test performance 29.683651 %\n"
     ]
    },
    {
     "name": "stderr",
     "output_type": "stream",
     "text": [
      "The training process for function test_noise_injection_at_weight ran for 0.93m\n"
     ]
    }
   ],
   "source": [
    "test_noise_injection_at_weight(eta =0.0000001, learning_rate=0.05,\n",
    "             L1_reg=0.00, L2_reg=0.0000, n_epochs=200,\n",
    "             batch_size=128, n_hidden=500, n_hiddenLayers=5,\n",
    "             verbose=False)"
   ]
  },
  {
   "cell_type": "markdown",
   "metadata": {},
   "source": [
    "As it can be seen, my results now also in the range as in part i. The injected small should be small, my best result came from eta = 0.000001. The reason for that is that the parameters are also small, and the noise added should be smaller then that. A better result may be achieveble if the eta is not fixed over all the parameters, but rather assigned dinamically and adjust to the size of the parameters it is added to.\n",
    "This model should be more sobust towards small perturbations towards the weights.\n",
    "Altough it is not outperforming on the given test samples, for a set of noisy input images it may be proved superior then the model trained withou noise.\n"
   ]
  },
  {
   "cell_type": "markdown",
   "metadata": {},
   "source": [
    "#### Bullet 4: Experiment with data augmentation"
   ]
  },
  {
   "cell_type": "markdown",
   "metadata": {},
   "source": [
    "For data augmentation, I used the same model as in i. I use translate_image to create 4 new set of images using the given algorithm."
   ]
  },
  {
   "cell_type": "code",
   "execution_count": 34,
   "metadata": {
    "collapsed": false,
    "scrolled": false
   },
   "outputs": [
    {
     "name": "stdout",
     "output_type": "stream",
     "text": [
      "... building the model\n",
      "... training\n",
      "Optimization complete.\n",
      "Best validation score of 24.875000 % obtained at iteration 9882, with test performance 25.300000 %\n"
     ]
    },
    {
     "name": "stderr",
     "output_type": "stream",
     "text": [
      "The training process for function test_data_augmentation ran for 1.01m\n"
     ]
    }
   ],
   "source": [
    "test_data_augmentation(learning_rate=0.05,\n",
    "             L1_reg=0.00, L2_reg=0.0000, n_epochs=200,\n",
    "             batch_size=200, n_hidden=500, n_hiddenLayers=5,\n",
    "             verbose=False)"
   ]
  },
  {
   "cell_type": "markdown",
   "metadata": {},
   "source": [
    "My results are slightly better then in part i, raughly 72%. I would expect larger improvments due to the increased number of data."
   ]
  },
  {
   "cell_type": "markdown",
   "metadata": {},
   "source": [
    "#### Bullet 5: Experiment with adversarial examples"
   ]
  },
  {
   "cell_type": "markdown",
   "metadata": {},
   "source": [
    "For the adversarial training I defined new theano functions to calculate the gradient with respect of the inputs and to return the probability distribution on the predicitons. I used the same model as in i. "
   ]
  },
  {
   "cell_type": "code",
   "execution_count": 1,
   "metadata": {
    "collapsed": false
   },
   "outputs": [
    {
     "name": "stdout",
     "output_type": "stream",
     "text": [
      "... building the model\n",
      "... training\n",
      "Optimization complete."
     ]
    },
    {
     "name": "stderr",
     "output_type": "stream",
     "text": [
      "Using gpu device 0: GRID K520\n",
      "The training process for function test_adversarial_example ran for 0.88m"
     ]
    },
    {
     "name": "stdout",
     "output_type": "stream",
     "text": [
      "\n",
      "Best validation score of 25.710227 % obtained at iteration 9991, with test performance 28.140394 %\n"
     ]
    },
    {
     "name": "stderr",
     "output_type": "stream",
     "text": [
      "\n"
     ]
    }
   ],
   "source": [
    "import matplotlib\n",
    "import pylab\n",
    "import numpy as np\n",
    "%matplotlib inline\n",
    "from hw3a import test_adversarial_example\n",
    "\n",
    "advers, ori_prob, advers_prob, ori_label = test_adversarial_example(learning_rate=0.05, L1_reg=0.00, L2_reg=0.0000, n_epochs=100,\n",
    "             batch_size=128, n_hidden=500, n_hiddenLayers=5,\n",
    "             verbose=False, smaller_set=True)"
   ]
  },
  {
   "cell_type": "code",
   "execution_count": null,
   "metadata": {
    "collapsed": true
   },
   "outputs": [],
   "source": [
    "import matplotlib.pyplot as plt\n",
    "from hw3_utils import shared_dataset, load_data\n",
    "datasets = load_data(ds_rate=5, theano_shared=False)\n",
    "train_set_x, train_set_y = datasets[0]"
   ]
  },
  {
   "cell_type": "code",
   "execution_count": 43,
   "metadata": {
    "collapsed": false
   },
   "outputs": [
    {
     "data": {
      "image/png": "[encoded data removed]",
      "text/plain": [
       "<matplotlib.figure.Figure at 0x7f8858bcb490>"
      ]
     },
     "metadata": {},
     "output_type": "display_data"
    },
    {
     "data": {
      "image/png": "[encoded data removed]",
      "text/plain": [
       "<matplotlib.figure.Figure at 0x7f8858c80fd0>"
      ]
     },
     "metadata": {},
     "output_type": "display_data"
    },
    {
     "data": {
      "image/png": "[encoded data removed]",
      "text/plain": [
       "<matplotlib.figure.Figure at 0x7f8858bdd6d0>"
      ]
     },
     "metadata": {},
     "output_type": "display_data"
    },
    {
     "data": {
      "image/png": "[encoded data removed]",
      "text/plain": [
       "<matplotlib.figure.Figure at 0x7f8853b41290>"
      ]
     },
     "metadata": {},
     "output_type": "display_data"
    }
   ],
   "source": [
    "i = 80\n",
    "\n",
    "plot_original = train_set_x[i,:]\n",
    "fig = plt.figure()\n",
    "imgplot = plt.imshow(np.fliplr(np.rot90(np.reshape(plot_original,(32,32,3),order='F'),k=3)))\n",
    "plt.show()\n",
    "\n",
    "plot_advers = advers[i,:]\n",
    "fig = plt.figure()\n",
    "imgplot = plt.imshow(np.fliplr(np.rot90(np.reshape(plot_advers,(32,32,3),order='F'),k=3)))\n",
    "plt.show()\n",
    "\n",
    "fig = plt.figure()\n",
    "plt.bar(np.arange(0,10),ori_prob[i,:], align='center')\n",
    "plt.show()\n",
    "\n",
    "fig = plt.figure()\n",
    "plt.bar(np.arange(0,10),advers_prob[i,:], align='center')\n",
    "plt.show()\n"
   ]
  },
  {
   "cell_type": "markdown",
   "metadata": {},
   "source": [
    "The first image is the original, the second on is the adversarial example. It seems a bit noisy but the digit can be clearly seen. While originally it was classified as a 7 for sure, after adding the noise into it now it predicts to be a 4."
   ]
  },
  {
   "cell_type": "markdown",
   "metadata": {},
   "source": [
    "### Problem b: Convolutional Neural Network\n",
    "#### Bullet 1: Implement an CNN"
   ]
  },
  {
   "cell_type": "markdown",
   "metadata": {},
   "source": [
    "I implemented the concolutional layers with a 9x9 and a 5x5 filters using (2,2) pooling. I tried out several different setting of number of kernels."
   ]
  },
  {
   "cell_type": "code",
   "execution_count": 44,
   "metadata": {
    "collapsed": false
   },
   "outputs": [
    {
     "name": "stdout",
     "output_type": "stream",
     "text": [
      "... building the model\n",
      "... training\n",
      "Optimization complete.\n",
      "Best validation score of 9.443531 % obtained at iteration 9270, with test performance 10.610376 %\n"
     ]
    },
    {
     "name": "stderr",
     "output_type": "stream",
     "text": [
      "The training process for function test_lenet ran for 5.60m\n"
     ]
    }
   ],
   "source": [
    "test_lenet(learning_rate=0.05, n_epochs=1000, nkerns=[16, 512],\n",
    "            batch_size=128, verbose=False)"
   ]
  },
  {
   "cell_type": "code",
   "execution_count": 2,
   "metadata": {
    "collapsed": false
   },
   "outputs": [
    {
     "name": "stdout",
     "output_type": "stream",
     "text": [
      "... building the model\n",
      "... training\n",
      "training @ iter =  0\n",
      "training @ iter =  100\n",
      "training @ iter =  200\n",
      "training @ iter =  300\n",
      "training @ iter =  400\n",
      "training @ iter =  500\n",
      "epoch 1, minibatch 515/515, validation error 40.419408 %\n",
      "     epoch 1, minibatch 515/515, test error of best model 40.170874 %\n",
      "training @ iter =  600\n",
      "training @ iter =  700\n",
      "training @ iter =  800\n",
      "training @ iter =  900\n",
      "training @ iter =  1000\n",
      "epoch 2, minibatch 515/515, validation error 17.420504 %\n",
      "     epoch 2, minibatch 515/515, test error of best model 17.941810 %\n",
      "training @ iter =  1100\n",
      "training @ iter =  1200\n",
      "training @ iter =  1300\n",
      "training @ iter =  1400\n",
      "training @ iter =  1500\n",
      "epoch 3, minibatch 515/515, validation error 13.870614 %\n",
      "     epoch 3, minibatch 515/515, test error of best model 14.470443 %\n",
      "training @ iter =  1600\n",
      "training @ iter =  1700\n",
      "training @ iter =  1800\n",
      "training @ iter =  1900\n",
      "training @ iter =  2000\n",
      "epoch 4, minibatch 515/515, validation error 12.404057 %\n",
      "     epoch 4, minibatch 515/515, test error of best model 12.915640 %\n",
      "training @ iter =  2100\n",
      "training @ iter =  2200\n",
      "training @ iter =  2300\n",
      "training @ iter =  2400\n",
      "training @ iter =  2500\n",
      "epoch 5, minibatch 515/515, validation error 11.567982 %\n",
      "     epoch 5, minibatch 515/515, test error of best model 12.149784 %\n",
      "training @ iter =  2600\n",
      "training @ iter =  2700\n",
      "training @ iter =  2800\n",
      "training @ iter =  2900\n",
      "training @ iter =  3000\n",
      "epoch 6, minibatch 515/515, validation error 10.937500 %\n",
      "     epoch 6, minibatch 515/515, test error of best model 11.510930 %\n",
      "training @ iter =  3100\n",
      "training @ iter =  3200\n",
      "training @ iter =  3300\n",
      "training @ iter =  3400\n",
      "training @ iter =  3500\n",
      "training @ iter =  3600\n",
      "epoch 7, minibatch 515/515, validation error 10.608553 %\n",
      "     epoch 7, minibatch 515/515, test error of best model 11.160714 %\n",
      "training @ iter =  3700\n",
      "training @ iter =  3800\n",
      "training @ iter =  3900\n",
      "training @ iter =  4000\n",
      "training @ iter =  4100\n",
      "epoch 8, minibatch 515/515, validation error 10.279605 %\n",
      "     epoch 8, minibatch 515/515, test error of best model 11.026016 %\n",
      "training @ iter =  4200\n",
      "training @ iter =  4300\n",
      "training @ iter =  4400\n",
      "training @ iter =  4500\n",
      "training @ iter =  4600\n",
      "epoch 9, minibatch 515/515, validation error 10.060307 %\n",
      "     epoch 9, minibatch 515/515, test error of best model 10.810499 %\n",
      "training @ iter =  4700\n",
      "training @ iter =  4800\n",
      "training @ iter =  4900\n",
      "training @ iter =  5000\n",
      "training @ iter =  5100\n",
      "epoch 10, minibatch 515/515, validation error 9.827303 %\n",
      "     epoch 10, minibatch 515/515, test error of best model 10.787408 %\n",
      "training @ iter =  5200\n",
      "training @ iter =  5300\n",
      "training @ iter =  5400\n",
      "training @ iter =  5500\n",
      "training @ iter =  5600\n",
      "epoch 11, minibatch 515/515, validation error 9.731360 %\n",
      "     epoch 11, minibatch 515/515, test error of best model 10.779711 %\n",
      "training @ iter =  5700\n",
      "training @ iter =  5800\n",
      "training @ iter =  5900\n",
      "training @ iter =  6000\n",
      "training @ iter =  6100\n",
      "epoch 12, minibatch 515/515, validation error 9.827303 %\n",
      "training @ iter =  6200\n",
      "training @ iter =  6300\n",
      "training @ iter =  6400\n",
      "training @ iter =  6500\n",
      "training @ iter =  6600\n",
      "epoch 13, minibatch 515/515, validation error 9.772478 %\n",
      "training @ iter =  6700\n",
      "training @ iter =  6800\n",
      "training @ iter =  6900\n",
      "training @ iter =  7000\n",
      "training @ iter =  7100\n",
      "training @ iter =  7200\n",
      "epoch 14, minibatch 515/515, validation error 9.758772 %\n",
      "training @ iter =  7300\n",
      "training @ iter =  7400\n",
      "training @ iter =  7500\n",
      "training @ iter =  7600\n",
      "training @ iter =  7700\n",
      "epoch 15, minibatch 515/515, validation error 9.676535 %\n",
      "     epoch 15, minibatch 515/515, test error of best model 10.575739 %\n",
      "training @ iter =  7800\n",
      "training @ iter =  7900\n",
      "training @ iter =  8000\n",
      "training @ iter =  8100\n",
      "training @ iter =  8200\n",
      "epoch 16, minibatch 515/515, validation error 9.731360 %\n",
      "training @ iter =  8300\n",
      "training @ iter =  8400\n",
      "training @ iter =  8500\n",
      "training @ iter =  8600\n",
      "training @ iter =  8700\n",
      "epoch 17, minibatch 515/515, validation error 9.731360 %\n",
      "training @ iter =  8800\n",
      "training @ iter =  8900\n",
      "training @ iter =  9000\n",
      "training @ iter =  9100\n",
      "training @ iter =  9200\n",
      "epoch 18, minibatch 515/515, validation error 9.758772 %\n",
      "training @ iter =  9300\n",
      "training @ iter =  9400\n",
      "training @ iter =  9500\n",
      "training @ iter =  9600\n",
      "training @ iter =  9700\n",
      "epoch 19, minibatch 515/515, validation error 9.799890 %\n",
      "training @ iter =  9800\n",
      "training @ iter =  9900\n",
      "training @ iter =  10000\n",
      "Optimization complete.\n",
      "Best validation score of 9.676535 % obtained at iteration 7725, with test performance 10.575739 %\n"
     ]
    },
    {
     "name": "stderr",
     "output_type": "stream",
     "text": [
      "The training process for function test_lenet ran for 28.99m\n"
     ]
    }
   ],
   "source": [
    "test_lenet(learning_rate=0.05, n_epochs=1000, nkerns=[256, 256],\n",
    "            batch_size=128, verbose=True)"
   ]
  },
  {
   "cell_type": "code",
   "execution_count": 3,
   "metadata": {
    "collapsed": false
   },
   "outputs": [
    {
     "name": "stdout",
     "output_type": "stream",
     "text": [
      "... building the model\n",
      "... training\n",
      "training @ iter =  0\n",
      "training @ iter =  100\n",
      "training @ iter =  200\n",
      "training @ iter =  300\n",
      "training @ iter =  400\n",
      "training @ iter =  500\n",
      "epoch 1, minibatch 515/515, validation error 38.486842 %\n",
      "     epoch 1, minibatch 515/515, test error of best model 38.412100 %\n",
      "training @ iter =  600\n",
      "training @ iter =  700\n",
      "training @ iter =  800\n",
      "training @ iter =  900\n",
      "training @ iter =  1000\n",
      "epoch 2, minibatch 515/515, validation error 16.995614 %\n",
      "     epoch 2, minibatch 515/515, test error of best model 17.322198 %\n",
      "training @ iter =  1100\n",
      "training @ iter =  1200\n",
      "training @ iter =  1300\n",
      "training @ iter =  1400\n",
      "training @ iter =  1500\n",
      "epoch 3, minibatch 515/515, validation error 13.651316 %\n",
      "     epoch 3, minibatch 515/515, test error of best model 14.401170 %\n",
      "training @ iter =  1600\n",
      "training @ iter =  1700\n",
      "training @ iter =  1800\n",
      "training @ iter =  1900\n",
      "training @ iter =  2000\n",
      "epoch 4, minibatch 515/515, validation error 12.266996 %\n",
      "     epoch 4, minibatch 515/515, test error of best model 13.154249 %\n",
      "training @ iter =  2100\n",
      "training @ iter =  2200\n",
      "training @ iter =  2300\n",
      "training @ iter =  2400\n",
      "training @ iter =  2500\n",
      "epoch 5, minibatch 515/515, validation error 11.513158 %\n",
      "     epoch 5, minibatch 515/515, test error of best model 12.384544 %\n",
      "training @ iter =  2600\n",
      "training @ iter =  2700\n",
      "training @ iter =  2800\n",
      "training @ iter =  2900\n",
      "training @ iter =  3000\n",
      "epoch 6, minibatch 515/515, validation error 10.992325 %\n",
      "     epoch 6, minibatch 515/515, test error of best model 11.822660 %\n",
      "training @ iter =  3100\n",
      "training @ iter =  3200\n",
      "training @ iter =  3300\n",
      "training @ iter =  3400\n",
      "training @ iter =  3500\n",
      "training @ iter =  3600\n",
      "epoch 7, minibatch 515/515, validation error 10.649671 %\n",
      "     epoch 7, minibatch 515/515, test error of best model 11.410868 %\n",
      "training @ iter =  3700\n",
      "training @ iter =  3800\n",
      "training @ iter =  3900\n",
      "training @ iter =  4000\n",
      "training @ iter =  4100\n",
      "epoch 8, minibatch 515/515, validation error 10.444079 %\n",
      "     epoch 8, minibatch 515/515, test error of best model 11.195351 %\n",
      "training @ iter =  4200\n",
      "training @ iter =  4300\n",
      "training @ iter =  4400\n",
      "training @ iter =  4500\n",
      "training @ iter =  4600\n",
      "epoch 9, minibatch 515/515, validation error 9.978070 %\n",
      "     epoch 9, minibatch 515/515, test error of best model 11.037562 %\n",
      "training @ iter =  4700\n",
      "training @ iter =  4800\n",
      "training @ iter =  4900\n",
      "training @ iter =  5000\n",
      "training @ iter =  5100\n",
      "epoch 10, minibatch 515/515, validation error 9.772478 %\n",
      "     epoch 10, minibatch 515/515, test error of best model 10.879772 %\n",
      "training @ iter =  5200\n",
      "training @ iter =  5300\n",
      "training @ iter =  5400\n",
      "training @ iter =  5500\n",
      "training @ iter =  5600\n",
      "epoch 11, minibatch 515/515, validation error 9.703947 %\n",
      "     epoch 11, minibatch 515/515, test error of best model 10.764317 %\n",
      "training @ iter =  5700\n",
      "training @ iter =  5800\n",
      "training @ iter =  5900\n",
      "training @ iter =  6000\n",
      "training @ iter =  6100\n",
      "epoch 12, minibatch 515/515, validation error 9.594298 %\n",
      "     epoch 12, minibatch 515/515, test error of best model 10.687346 %\n",
      "training @ iter =  6200\n",
      "training @ iter =  6300\n",
      "training @ iter =  6400\n",
      "training @ iter =  6500\n",
      "training @ iter =  6600\n",
      "epoch 13, minibatch 515/515, validation error 9.402412 %\n",
      "     epoch 13, minibatch 515/515, test error of best model 10.648861 %\n",
      "training @ iter =  6700\n",
      "training @ iter =  6800\n",
      "training @ iter =  6900\n",
      "training @ iter =  7000\n",
      "training @ iter =  7100\n",
      "training @ iter =  7200\n",
      "epoch 14, minibatch 515/515, validation error 9.361294 %\n",
      "     epoch 14, minibatch 515/515, test error of best model 10.602679 %\n",
      "training @ iter =  7300\n",
      "training @ iter =  7400\n",
      "training @ iter =  7500\n",
      "training @ iter =  7600\n",
      "training @ iter =  7700\n",
      "epoch 15, minibatch 515/515, validation error 9.375000 %\n",
      "training @ iter =  7800\n",
      "training @ iter =  7900\n",
      "training @ iter =  8000\n",
      "training @ iter =  8100\n",
      "training @ iter =  8200\n",
      "epoch 16, minibatch 515/515, validation error 9.265351 %\n",
      "     epoch 16, minibatch 515/515, test error of best model 10.618073 %\n",
      "training @ iter =  8300\n",
      "training @ iter =  8400\n",
      "training @ iter =  8500\n",
      "training @ iter =  8600\n",
      "training @ iter =  8700\n",
      "epoch 17, minibatch 515/515, validation error 9.224232 %\n",
      "     epoch 17, minibatch 515/515, test error of best model 10.637315 %\n",
      "training @ iter =  8800\n",
      "training @ iter =  8900\n",
      "training @ iter =  9000\n",
      "training @ iter =  9100\n",
      "training @ iter =  9200\n",
      "epoch 18, minibatch 515/515, validation error 9.183114 %\n",
      "     epoch 18, minibatch 515/515, test error of best model 10.629618 %\n",
      "training @ iter =  9300\n",
      "training @ iter =  9400\n",
      "training @ iter =  9500\n",
      "training @ iter =  9600\n",
      "training @ iter =  9700\n",
      "epoch 19, minibatch 515/515, validation error 9.210526 %\n",
      "training @ iter =  9800\n",
      "training @ iter =  9900\n",
      "training @ iter =  10000\n",
      "Optimization complete.\n",
      "Best validation score of 9.183114 % obtained at iteration 9270, with test performance 10.629618 %\n"
     ]
    },
    {
     "name": "stderr",
     "output_type": "stream",
     "text": [
      "The training process for function test_lenet ran for 14.31m\n"
     ]
    }
   ],
   "source": [
    "test_lenet(learning_rate=0.05, n_epochs=1000, nkerns=[64, 512],\n",
    "            batch_size=128, verbose=True)"
   ]
  },
  {
   "cell_type": "markdown",
   "metadata": {},
   "source": [
    "After testing with different kernel sizes, I got similar results, with 90% test accuracy, which is my best so far. What also can be seen, is that if i increase the number of kernels in the first layer, it greatly increase the computation time (because the second layer will have a larger input), however, the accuracy does not improve significantly. I assume after a critical amaunt of neurons, its hard to achive improvment by just adding more neurons to the system."
   ]
  },
  {
   "cell_type": "markdown",
   "metadata": {},
   "source": [
    "#### Bullet 2: Implement a multi-stage CNN"
   ]
  },
  {
   "cell_type": "markdown",
   "metadata": {},
   "source": [
    "I implemented the concolutional layers with a 9x9, 5x5 and 3x3 filters using (2,2) pooling. I tried out several different setting of number of kernels, as well as the kernel shape. I made sure to downsample the output of the first conv layer when added to the input of the third input layer."
   ]
  },
  {
   "cell_type": "code",
   "execution_count": 1,
   "metadata": {
    "collapsed": false
   },
   "outputs": [
    {
     "name": "stdout",
     "output_type": "stream",
     "text": [
      "... building the model\n",
      "... training\n",
      "training @ iter =  0\n",
      "training @ iter =  100\n",
      "training @ iter =  200\n",
      "training @ iter =  300\n",
      "training @ iter =  400\n",
      "training @ iter =  500\n",
      "epoch 1, minibatch 515/515, validation error 63.788377 %\n",
      "     epoch 1, minibatch 515/515, test error of best model 61.518627 %\n",
      "training @ iter =  600\n",
      "training @ iter =  700\n",
      "training @ iter =  800\n",
      "training @ iter =  900\n",
      "training @ iter =  1000\n",
      "epoch 2, minibatch 515/515, validation error 26.726974 %\n",
      "     epoch 2, minibatch 515/515, test error of best model 28.159637 %\n",
      "training @ iter =  1100\n",
      "training @ iter =  1200\n",
      "training @ iter =  1300\n",
      "training @ iter =  1400\n",
      "training @ iter =  1500\n",
      "epoch 3, minibatch 515/515, validation error 81.154057 %\n",
      "training @ iter =  1600\n",
      "training @ iter =  1700\n",
      "training @ iter =  1800\n",
      "training @ iter =  1900\n",
      "training @ iter =  2000\n",
      "epoch 4, minibatch 515/515, validation error 24.342105 %\n",
      "     epoch 4, minibatch 515/515, test error of best model 26.277709 %\n",
      "training @ iter =  2100\n",
      "training @ iter =  2200\n",
      "training @ iter =  2300\n",
      "training @ iter =  2400\n",
      "training @ iter =  2500\n",
      "epoch 5, minibatch 515/515, validation error 18.530702 %\n",
      "     epoch 5, minibatch 515/515, test error of best model 19.588978 %\n",
      "training @ iter =  2600\n",
      "training @ iter =  2700\n",
      "training @ iter =  2800\n",
      "training @ iter =  2900\n",
      "training @ iter =  3000\n",
      "epoch 6, minibatch 515/515, validation error 16.063596 %\n",
      "     epoch 6, minibatch 515/515, test error of best model 16.841133 %\n",
      "training @ iter =  3100\n",
      "training @ iter =  3200\n",
      "training @ iter =  3300\n",
      "training @ iter =  3400\n",
      "training @ iter =  3500\n",
      "training @ iter =  3600\n",
      "epoch 7, minibatch 515/515, validation error 14.117325 %\n",
      "     epoch 7, minibatch 515/515, test error of best model 15.055419 %\n",
      "training @ iter =  3700\n",
      "training @ iter =  3800\n",
      "training @ iter =  3900\n",
      "training @ iter =  4000\n",
      "training @ iter =  4100\n",
      "epoch 8, minibatch 515/515, validation error 13.596491 %\n",
      "     epoch 8, minibatch 515/515, test error of best model 14.370382 %\n",
      "training @ iter =  4200\n",
      "training @ iter =  4300\n",
      "training @ iter =  4400\n",
      "training @ iter =  4500\n",
      "training @ iter =  4600\n",
      "epoch 9, minibatch 515/515, validation error 12.815241 %\n",
      "     epoch 9, minibatch 515/515, test error of best model 13.958590 %\n",
      "training @ iter =  4700\n",
      "training @ iter =  4800\n",
      "training @ iter =  4900\n",
      "training @ iter =  5000\n",
      "training @ iter =  5100\n",
      "epoch 10, minibatch 515/515, validation error 12.582237 %\n",
      "     epoch 10, minibatch 515/515, test error of best model 13.758467 %\n",
      "training @ iter =  5200\n",
      "training @ iter =  5300\n",
      "training @ iter =  5400\n",
      "training @ iter =  5500\n",
      "training @ iter =  5600\n",
      "epoch 11, minibatch 515/515, validation error 12.116228 %\n",
      "     epoch 11, minibatch 515/515, test error of best model 13.338978 %\n",
      "training @ iter =  5700\n",
      "training @ iter =  5800\n",
      "training @ iter =  5900\n",
      "training @ iter =  6000\n",
      "training @ iter =  6100\n",
      "epoch 12, minibatch 515/515, validation error 12.075110 %\n",
      "     epoch 12, minibatch 515/515, test error of best model 13.296644 %\n",
      "training @ iter =  6200\n",
      "training @ iter =  6300\n",
      "training @ iter =  6400\n",
      "training @ iter =  6500\n",
      "training @ iter =  6600\n",
      "epoch 13, minibatch 515/515, validation error 11.526864 %\n",
      "     epoch 13, minibatch 515/515, test error of best model 12.719366 %\n",
      "training @ iter =  6700\n",
      "training @ iter =  6800\n",
      "training @ iter =  6900\n",
      "training @ iter =  7000\n",
      "training @ iter =  7100\n",
      "training @ iter =  7200\n",
      "epoch 14, minibatch 515/515, validation error 11.430921 %\n",
      "     epoch 14, minibatch 515/515, test error of best model 12.646244 %\n",
      "training @ iter =  7300\n",
      "training @ iter =  7400\n",
      "training @ iter =  7500\n",
      "training @ iter =  7600\n",
      "training @ iter =  7700\n",
      "epoch 15, minibatch 515/515, validation error 11.074561 %\n",
      "     epoch 15, minibatch 515/515, test error of best model 12.426878 %\n",
      "training @ iter =  7800\n",
      "training @ iter =  7900\n",
      "training @ iter =  8000\n",
      "training @ iter =  8100\n",
      "training @ iter =  8200\n",
      "epoch 16, minibatch 515/515, validation error 10.882675 %\n",
      "     epoch 16, minibatch 515/515, test error of best model 12.349908 %\n",
      "training @ iter =  8300\n",
      "training @ iter =  8400\n",
      "training @ iter =  8500\n",
      "training @ iter =  8600\n",
      "training @ iter =  8700\n",
      "epoch 17, minibatch 515/515, validation error 10.814145 %\n",
      "     epoch 17, minibatch 515/515, test error of best model 12.115148 %\n",
      "training @ iter =  8800\n",
      "training @ iter =  8900\n",
      "training @ iter =  9000\n",
      "training @ iter =  9100\n",
      "training @ iter =  9200\n",
      "epoch 18, minibatch 515/515, validation error 10.882675 %\n",
      "training @ iter =  9300\n",
      "training @ iter =  9400\n",
      "training @ iter =  9500\n",
      "training @ iter =  9600\n",
      "training @ iter =  9700\n",
      "epoch 19, minibatch 515/515, validation error 10.910088 %\n",
      "training @ iter =  9800\n",
      "training @ iter =  9900\n",
      "training @ iter =  10000\n",
      "Optimization complete."
     ]
    },
    {
     "name": "stderr",
     "output_type": "stream",
     "text": [
      "Using gpu device 0: GRID K520\n",
      "The training process for function test_convnet ran for 6.79m"
     ]
    },
    {
     "name": "stdout",
     "output_type": "stream",
     "text": [
      "\n",
      "Best validation score of 10.814145 % obtained at iteration 8755, with test performance 12.115148 %\n"
     ]
    },
    {
     "name": "stderr",
     "output_type": "stream",
     "text": [
      "\n"
     ]
    }
   ],
   "source": [
    "test_convnet(learning_rate=0.05, n_epochs=1000, nkerns=[16, 512, 20],\n",
    "        kernshape=[9,5,3], batch_size=128, verbose=True)"
   ]
  },
  {
   "cell_type": "markdown",
   "metadata": {},
   "source": [
    "Same model, number of kernels are 16, 512 and 20. Kernel shape: 5, 11, 2"
   ]
  },
  {
   "cell_type": "code",
   "execution_count": 1,
   "metadata": {
    "collapsed": false
   },
   "outputs": [
    {
     "name": "stdout",
     "output_type": "stream",
     "text": [
      "... building the model\n",
      "... training\n",
      "training @ iter =  0\n",
      "training @ iter =  100\n",
      "training @ iter =  200\n",
      "training @ iter =  300\n",
      "training @ iter =  400\n",
      "training @ iter =  500\n",
      "epoch 1, minibatch 515/515, validation error 81.154057 %\n",
      "     epoch 1, minibatch 515/515, test error of best model 80.414871 %\n",
      "training @ iter =  600\n",
      "training @ iter =  700\n",
      "training @ iter =  800\n",
      "training @ iter =  900\n",
      "training @ iter =  1000\n",
      "epoch 2, minibatch 515/515, validation error 41.995614 %\n",
      "     epoch 2, minibatch 515/515, test error of best model 43.230450 %\n",
      "training @ iter =  1100\n",
      "training @ iter =  1200\n",
      "training @ iter =  1300\n",
      "training @ iter =  1400\n",
      "training @ iter =  1500\n",
      "epoch 3, minibatch 515/515, validation error 22.491776 %\n",
      "     epoch 3, minibatch 515/515, test error of best model 24.784483 %\n",
      "training @ iter =  1600\n",
      "training @ iter =  1700\n",
      "training @ iter =  1800\n",
      "training @ iter =  1900\n",
      "training @ iter =  2000\n",
      "epoch 4, minibatch 515/515, validation error 16.981908 %\n",
      "     epoch 4, minibatch 515/515, test error of best model 19.084821 %\n",
      "training @ iter =  2100\n",
      "training @ iter =  2200\n",
      "training @ iter =  2300\n",
      "training @ iter =  2400\n",
      "training @ iter =  2500\n",
      "epoch 5, minibatch 515/515, validation error 14.706689 %\n",
      "     epoch 5, minibatch 515/515, test error of best model 16.733374 %\n",
      "training @ iter =  2600\n",
      "training @ iter =  2700\n",
      "training @ iter =  2800\n",
      "training @ iter =  2900\n",
      "training @ iter =  3000\n",
      "epoch 6, minibatch 515/515, validation error 13.596491 %\n",
      "     epoch 6, minibatch 515/515, test error of best model 15.524938 %\n",
      "training @ iter =  3100\n",
      "training @ iter =  3200\n",
      "training @ iter =  3300\n",
      "training @ iter =  3400\n",
      "training @ iter =  3500\n",
      "training @ iter =  3600\n",
      "epoch 7, minibatch 515/515, validation error 13.075658 %\n",
      "     epoch 7, minibatch 515/515, test error of best model 14.793719 %\n",
      "training @ iter =  3700\n",
      "training @ iter =  3800\n",
      "training @ iter =  3900\n",
      "training @ iter =  4000\n",
      "training @ iter =  4100\n",
      "epoch 8, minibatch 515/515, validation error 12.760417 %\n",
      "     epoch 8, minibatch 515/515, test error of best model 14.555111 %\n",
      "training @ iter =  4200\n",
      "training @ iter =  4300\n",
      "training @ iter =  4400\n",
      "training @ iter =  4500\n",
      "training @ iter =  4600\n",
      "epoch 9, minibatch 515/515, validation error 12.445175 %\n",
      "     epoch 9, minibatch 515/515, test error of best model 14.331897 %\n",
      "training @ iter =  4700\n",
      "training @ iter =  4800\n",
      "training @ iter =  4900\n",
      "training @ iter =  5000\n",
      "training @ iter =  5100\n",
      "epoch 10, minibatch 515/515, validation error 12.020285 %\n",
      "     epoch 10, minibatch 515/515, test error of best model 14.020166 %\n",
      "training @ iter =  5200\n",
      "training @ iter =  5300\n",
      "training @ iter =  5400\n",
      "training @ iter =  5500\n",
      "training @ iter =  5600\n",
      "epoch 11, minibatch 515/515, validation error 11.896930 %\n",
      "     epoch 11, minibatch 515/515, test error of best model 14.108682 %\n",
      "training @ iter =  5700\n",
      "training @ iter =  5800\n",
      "training @ iter =  5900\n",
      "training @ iter =  6000\n",
      "training @ iter =  6100\n",
      "epoch 12, minibatch 515/515, validation error 12.006579 %\n",
      "training @ iter =  6200\n",
      "training @ iter =  6300\n",
      "training @ iter =  6400\n",
      "training @ iter =  6500\n",
      "training @ iter =  6600\n",
      "epoch 13, minibatch 515/515, validation error 11.677632 %\n",
      "     epoch 13, minibatch 515/515, test error of best model 14.281866 %\n",
      "training @ iter =  6700\n",
      "training @ iter =  6800\n",
      "training @ iter =  6900\n",
      "training @ iter =  7000\n",
      "training @ iter =  7100\n",
      "training @ iter =  7200\n",
      "epoch 14, minibatch 515/515, validation error 11.430921 %\n",
      "     epoch 14, minibatch 515/515, test error of best model 14.097137 %\n",
      "training @ iter =  7300\n",
      "training @ iter =  7400\n",
      "training @ iter =  7500\n",
      "training @ iter =  7600\n",
      "training @ iter =  7700\n",
      "epoch 15, minibatch 515/515, validation error 47.012061 %\n",
      "training @ iter =  7800\n",
      "training @ iter =  7900\n",
      "training @ iter =  8000\n",
      "training @ iter =  8100\n",
      "training @ iter =  8200\n",
      "epoch 16, minibatch 515/515, validation error 81.154057 %\n",
      "training @ iter =  8300\n",
      "training @ iter =  8400\n",
      "training @ iter =  8500\n",
      "training @ iter =  8600\n",
      "training @ iter =  8700\n",
      "epoch 17, minibatch 515/515, validation error 80.742873 %\n",
      "training @ iter =  8800\n",
      "training @ iter =  8900\n",
      "training @ iter =  9000\n",
      "training @ iter =  9100\n",
      "training @ iter =  9200\n",
      "epoch 18, minibatch 515/515, validation error 81.154057 %\n",
      "training @ iter =  9300\n",
      "training @ iter =  9400\n",
      "training @ iter =  9500\n",
      "training @ iter =  9600\n",
      "training @ iter =  9700\n",
      "epoch 19, minibatch 515/515, validation error 81.154057 %\n",
      "training @ iter =  9800\n",
      "training @ iter =  9900\n",
      "training @ iter =  10000\n",
      "Optimization complete."
     ]
    },
    {
     "name": "stderr",
     "output_type": "stream",
     "text": [
      "Using gpu device 0: GRID K520\n",
      "The training process for function test_convnet ran for 11.78m"
     ]
    },
    {
     "name": "stdout",
     "output_type": "stream",
     "text": [
      "\n",
      "Best validation score of 11.430921 % obtained at iteration 7210, with test performance 14.097137 %\n"
     ]
    },
    {
     "name": "stderr",
     "output_type": "stream",
     "text": [
      "\n"
     ]
    }
   ],
   "source": [
    "test_convnet(pool=7,learning_rate=0.05, n_epochs=1000, nkerns=[16, 512, 20],\n",
    "        kernshape=[5,11,2], batch_size=128, verbose=True)"
   ]
  },
  {
   "cell_type": "markdown",
   "metadata": {},
   "source": [
    "Kernel shape :9,5,3 kernel numbers: 16, 256, 40"
   ]
  },
  {
   "cell_type": "code",
   "execution_count": 2,
   "metadata": {
    "collapsed": false
   },
   "outputs": [
    {
     "name": "stdout",
     "output_type": "stream",
     "text": [
      "... building the model\n",
      "... training\n",
      "training @ iter =  0\n",
      "training @ iter =  100\n",
      "training @ iter =  200\n",
      "training @ iter =  300\n",
      "training @ iter =  400\n",
      "training @ iter =  500\n",
      "epoch 1, minibatch 515/515, validation error 49.465461 %\n",
      "     epoch 1, minibatch 515/515, test error of best model 48.729988 %\n",
      "training @ iter =  600\n",
      "training @ iter =  700\n",
      "training @ iter =  800\n",
      "training @ iter =  900\n",
      "training @ iter =  1000\n",
      "epoch 2, minibatch 515/515, validation error 23.560855 %\n",
      "     epoch 2, minibatch 515/515, test error of best model 24.653633 %\n",
      "training @ iter =  1100\n",
      "training @ iter =  1200\n",
      "training @ iter =  1300\n",
      "training @ iter =  1400\n",
      "training @ iter =  1500\n",
      "epoch 3, minibatch 515/515, validation error 18.133224 %\n",
      "     epoch 3, minibatch 515/515, test error of best model 19.104064 %\n",
      "training @ iter =  1600\n",
      "training @ iter =  1700\n",
      "training @ iter =  1800\n",
      "training @ iter =  1900\n",
      "training @ iter =  2000\n",
      "epoch 4, minibatch 515/515, validation error 15.254934 %\n",
      "     epoch 4, minibatch 515/515, test error of best model 16.271552 %\n",
      "training @ iter =  2100\n",
      "training @ iter =  2200\n",
      "training @ iter =  2300\n",
      "training @ iter =  2400\n",
      "training @ iter =  2500\n",
      "epoch 5, minibatch 515/515, validation error 13.925439 %\n",
      "     epoch 5, minibatch 515/515, test error of best model 15.209360 %\n",
      "training @ iter =  2600\n",
      "training @ iter =  2700\n",
      "training @ iter =  2800\n",
      "training @ iter =  2900\n",
      "training @ iter =  3000\n",
      "epoch 6, minibatch 515/515, validation error 13.199013 %\n",
      "     epoch 6, minibatch 515/515, test error of best model 14.547414 %\n",
      "training @ iter =  3100\n",
      "training @ iter =  3200\n",
      "training @ iter =  3300\n",
      "training @ iter =  3400\n",
      "training @ iter =  3500\n",
      "training @ iter =  3600\n",
      "epoch 7, minibatch 515/515, validation error 12.609649 %\n",
      "     epoch 7, minibatch 515/515, test error of best model 13.846983 %\n",
      "training @ iter =  3700\n",
      "training @ iter =  3800\n",
      "training @ iter =  3900\n",
      "training @ iter =  4000\n",
      "training @ iter =  4100\n",
      "epoch 8, minibatch 515/515, validation error 12.061404 %\n",
      "     epoch 8, minibatch 515/515, test error of best model 13.246613 %\n",
      "training @ iter =  4200\n",
      "training @ iter =  4300\n",
      "training @ iter =  4400\n",
      "training @ iter =  4500\n",
      "training @ iter =  4600\n",
      "epoch 9, minibatch 515/515, validation error 11.759868 %\n",
      "     epoch 9, minibatch 515/515, test error of best model 13.034945 %\n",
      "training @ iter =  4700\n",
      "training @ iter =  4800\n",
      "training @ iter =  4900\n",
      "training @ iter =  5000\n",
      "training @ iter =  5100\n",
      "epoch 10, minibatch 515/515, validation error 11.567982 %\n",
      "     epoch 10, minibatch 515/515, test error of best model 12.742457 %\n",
      "training @ iter =  5200\n",
      "training @ iter =  5300\n",
      "training @ iter =  5400\n",
      "training @ iter =  5500\n",
      "training @ iter =  5600\n",
      "epoch 11, minibatch 515/515, validation error 11.417215 %\n",
      "     epoch 11, minibatch 515/515, test error of best model 12.457666 %\n",
      "training @ iter =  5700\n",
      "training @ iter =  5800\n",
      "training @ iter =  5900\n",
      "training @ iter =  6000\n",
      "training @ iter =  6100\n",
      "epoch 12, minibatch 515/515, validation error 11.472039 %\n",
      "training @ iter =  6200\n",
      "training @ iter =  6300\n",
      "training @ iter =  6400\n",
      "training @ iter =  6500\n",
      "training @ iter =  6600\n",
      "epoch 13, minibatch 515/515, validation error 11.280154 %\n",
      "     epoch 13, minibatch 515/515, test error of best model 12.292180 %\n",
      "training @ iter =  6700\n",
      "training @ iter =  6800\n",
      "training @ iter =  6900\n",
      "training @ iter =  7000\n",
      "training @ iter =  7100\n",
      "training @ iter =  7200\n",
      "epoch 14, minibatch 515/515, validation error 11.266447 %\n",
      "     epoch 14, minibatch 515/515, test error of best model 12.118996 %\n",
      "training @ iter =  7300\n",
      "training @ iter =  7400\n",
      "training @ iter =  7500\n",
      "training @ iter =  7600\n",
      "training @ iter =  7700\n",
      "epoch 15, minibatch 515/515, validation error 11.060855 %\n",
      "     epoch 15, minibatch 515/515, test error of best model 12.134390 %\n",
      "training @ iter =  7800\n",
      "training @ iter =  7900\n",
      "training @ iter =  8000\n",
      "training @ iter =  8100\n",
      "training @ iter =  8200\n",
      "epoch 16, minibatch 515/515, validation error 10.718202 %\n",
      "     epoch 16, minibatch 515/515, test error of best model 12.038177 %\n",
      "training @ iter =  8300\n",
      "training @ iter =  8400\n",
      "training @ iter =  8500\n",
      "training @ iter =  8600\n",
      "training @ iter =  8700\n",
      "epoch 17, minibatch 515/515, validation error 10.786732 %\n",
      "training @ iter =  8800\n",
      "training @ iter =  8900\n",
      "training @ iter =  9000\n",
      "training @ iter =  9100\n",
      "training @ iter =  9200\n",
      "epoch 18, minibatch 515/515, validation error 10.649671 %\n",
      "     epoch 18, minibatch 515/515, test error of best model 12.026632 %\n",
      "training @ iter =  9300\n",
      "training @ iter =  9400\n",
      "training @ iter =  9500\n",
      "training @ iter =  9600\n",
      "training @ iter =  9700\n",
      "epoch 19, minibatch 515/515, validation error 10.416667 %\n",
      "     epoch 19, minibatch 515/515, test error of best model 11.918873 %\n",
      "training @ iter =  9800\n",
      "training @ iter =  9900\n",
      "training @ iter =  10000\n",
      "Optimization complete.\n",
      "Best validation score of 10.416667 % obtained at iteration 9785, with test performance 11.918873 %\n"
     ]
    },
    {
     "name": "stderr",
     "output_type": "stream",
     "text": [
      "The training process for function test_convnet ran for 4.66m\n"
     ]
    }
   ],
   "source": [
    "test_convnet(pool=3, learning_rate=0.05, n_epochs=1000, nkerns=[16, 256, 40],\n",
    "        kernshape=[9,5,3], batch_size=128, verbose=True)"
   ]
  },
  {
   "cell_type": "markdown",
   "metadata": {},
   "source": [
    "I tried out different number of kernels, as well as different shape of kernels. Obviously, there are a lot of dimensions in this problem you can vary and its difficult to tell without deeper testing that how theese individually effect the overall performance. My best test accuracy (89%) was achived with kernel numbers [16,256,40] and kernel shape[9,5,3]. The special feedforward makes the implementation difficult in a way that only a limited number of kernel shapes are possible due to the fact that we have to match the input shapes at the 3. convolution."
   ]
  },
  {
   "cell_type": "markdown",
   "metadata": {},
   "source": [
    "#### Bullet 3: Explain why the back-propogation algorithm works on ms-cnn"
   ]
  },
  {
   "cell_type": "markdown",
   "metadata": {
    "collapsed": true
   },
   "source": [
    "The backpropagation algorithm starts at the output after the forward calculation is done. It calculates the gradient from the end to start, starting with the most 'outer' parameters. In the case of this nonstandard feedforward, it can still compute the gradient of the cost. It packpropagates the gradient through both branch, they are idependent, and when both breanch computation is finished, it can go deeper."
   ]
  },
  {
   "cell_type": "markdown",
   "metadata": {},
   "source": [
    "#### Bullet 4: Implement CNN plus MLP"
   ]
  },
  {
   "cell_type": "markdown",
   "metadata": {},
   "source": [
    "For this part, I added two hidden layers after the 2 convolutional layer of size 16 and 512. Both hidden layers takes a 1000 neurons each."
   ]
  },
  {
   "cell_type": "code",
   "execution_count": 2,
   "metadata": {
    "collapsed": false
   },
   "outputs": [
    {
     "name": "stdout",
     "output_type": "stream",
     "text": [
      "... building the model\n",
      "... training\n",
      "training @ iter =  0\n",
      "training @ iter =  100\n",
      "training @ iter =  200\n",
      "training @ iter =  300\n",
      "epoch 1, minibatch 329/329, validation error 53.500000 %\n",
      "     epoch 1, minibatch 329/329, test error of best model 52.900000 %\n",
      "training @ iter =  400\n",
      "training @ iter =  500\n",
      "training @ iter =  600\n",
      "epoch 2, minibatch 329/329, validation error 19.430556 %\n",
      "     epoch 2, minibatch 329/329, test error of best model 20.007692 %\n",
      "training @ iter =  700\n",
      "training @ iter =  800\n",
      "training @ iter =  900\n",
      "epoch 3, minibatch 329/329, validation error 15.041667 %\n",
      "     epoch 3, minibatch 329/329, test error of best model 16.011538 %\n",
      "training @ iter =  1000\n",
      "training @ iter =  1100\n",
      "training @ iter =  1200\n",
      "training @ iter =  1300\n",
      "epoch 4, minibatch 329/329, validation error 13.444444 %\n",
      "     epoch 4, minibatch 329/329, test error of best model 14.311538 %\n",
      "training @ iter =  1400\n",
      "training @ iter =  1500\n",
      "training @ iter =  1600\n",
      "epoch 5, minibatch 329/329, validation error 12.361111 %\n",
      "     epoch 5, minibatch 329/329, test error of best model 13.450000 %\n",
      "training @ iter =  1700\n",
      "training @ iter =  1800\n",
      "training @ iter =  1900\n",
      "epoch 6, minibatch 329/329, validation error 11.638889 %\n",
      "     epoch 6, minibatch 329/329, test error of best model 12.980769 %\n",
      "training @ iter =  2000\n",
      "training @ iter =  2100\n",
      "training @ iter =  2200\n",
      "training @ iter =  2300\n",
      "epoch 7, minibatch 329/329, validation error 11.000000 %\n",
      "     epoch 7, minibatch 329/329, test error of best model 12.550000 %\n",
      "training @ iter =  2400\n",
      "training @ iter =  2500\n",
      "training @ iter =  2600\n",
      "epoch 8, minibatch 329/329, validation error 10.611111 %\n",
      "     epoch 8, minibatch 329/329, test error of best model 12.253846 %\n",
      "training @ iter =  2700\n",
      "training @ iter =  2800\n",
      "training @ iter =  2900\n",
      "epoch 9, minibatch 329/329, validation error 10.263889 %\n",
      "     epoch 9, minibatch 329/329, test error of best model 12.026923 %\n",
      "training @ iter =  3000\n",
      "training @ iter =  3100\n",
      "training @ iter =  3200\n",
      "epoch 10, minibatch 329/329, validation error 10.027778 %\n",
      "     epoch 10, minibatch 329/329, test error of best model 11.815385 %\n",
      "training @ iter =  3300\n",
      "training @ iter =  3400\n",
      "training @ iter =  3500\n",
      "training @ iter =  3600\n",
      "epoch 11, minibatch 329/329, validation error 9.875000 %\n",
      "     epoch 11, minibatch 329/329, test error of best model 11.653846 %\n",
      "training @ iter =  3700\n",
      "training @ iter =  3800\n",
      "training @ iter =  3900\n",
      "epoch 12, minibatch 329/329, validation error 9.708333 %\n",
      "     epoch 12, minibatch 329/329, test error of best model 11.569231 %\n",
      "training @ iter =  4000\n",
      "training @ iter =  4100\n",
      "training @ iter =  4200\n",
      "epoch 13, minibatch 329/329, validation error 9.680556 %\n",
      "     epoch 13, minibatch 329/329, test error of best model 11.530769 %\n",
      "training @ iter =  4300\n",
      "training @ iter =  4400\n",
      "training @ iter =  4500\n",
      "training @ iter =  4600\n",
      "epoch 14, minibatch 329/329, validation error 9.736111 %\n",
      "training @ iter =  4700\n",
      "training @ iter =  4800\n",
      "training @ iter =  4900\n",
      "epoch 15, minibatch 329/329, validation error 9.777778 %\n",
      "training @ iter =  5000\n",
      "training @ iter =  5100\n",
      "training @ iter =  5200\n",
      "epoch 16, minibatch 329/329, validation error 9.847222 %\n",
      "training @ iter =  5300\n",
      "training @ iter =  5400\n",
      "training @ iter =  5500\n",
      "epoch 17, minibatch 329/329, validation error 9.708333 %\n",
      "training @ iter =  5600\n",
      "training @ iter =  5700\n",
      "training @ iter =  5800\n",
      "training @ iter =  5900\n",
      "epoch 18, minibatch 329/329, validation error 9.819444 %\n",
      "training @ iter =  6000\n",
      "training @ iter =  6100\n",
      "training @ iter =  6200\n",
      "epoch 19, minibatch 329/329, validation error 10.000000 %\n",
      "training @ iter =  6300\n",
      "training @ iter =  6400\n",
      "training @ iter =  6500\n",
      "epoch 20, minibatch 329/329, validation error 10.027778 %\n",
      "training @ iter =  6600\n",
      "training @ iter =  6700\n",
      "training @ iter =  6800\n",
      "training @ iter =  6900\n",
      "epoch 21, minibatch 329/329, validation error 10.013889 %\n",
      "training @ iter =  7000\n",
      "training @ iter =  7100\n",
      "training @ iter =  7200\n",
      "epoch 22, minibatch 329/329, validation error 10.138889 %\n",
      "training @ iter =  7300\n",
      "training @ iter =  7400\n",
      "training @ iter =  7500\n",
      "epoch 23, minibatch 329/329, validation error 10.277778 %\n",
      "training @ iter =  7600\n",
      "training @ iter =  7700\n",
      "training @ iter =  7800\n",
      "epoch 24, minibatch 329/329, validation error 10.333333 %\n",
      "training @ iter =  7900\n",
      "training @ iter =  8000\n",
      "training @ iter =  8100\n",
      "training @ iter =  8200\n",
      "epoch 25, minibatch 329/329, validation error 10.402778 %\n",
      "training @ iter =  8300\n",
      "training @ iter =  8400\n",
      "training @ iter =  8500\n",
      "epoch 26, minibatch 329/329, validation error 10.375000 %\n",
      "training @ iter =  8600\n",
      "training @ iter =  8700\n",
      "training @ iter =  8800\n",
      "epoch 27, minibatch 329/329, validation error 10.500000 %\n",
      "training @ iter =  8900\n",
      "training @ iter =  9000\n",
      "training @ iter =  9100\n",
      "training @ iter =  9200\n",
      "epoch 28, minibatch 329/329, validation error 10.361111 %\n",
      "training @ iter =  9300\n",
      "training @ iter =  9400\n",
      "training @ iter =  9500\n",
      "epoch 29, minibatch 329/329, validation error 10.333333 %\n",
      "training @ iter =  9600\n",
      "training @ iter =  9700\n",
      "training @ iter =  9800\n",
      "epoch 30, minibatch 329/329, validation error 10.236111 %\n",
      "training @ iter =  9900\n",
      "training @ iter =  10000\n",
      "Optimization complete.\n",
      "Best validation score of 9.680556 % obtained at iteration 4277, with test performance 11.530769 %\n"
     ]
    },
    {
     "name": "stderr",
     "output_type": "stream",
     "text": [
      "The training process for function test_CDNN ran for 9.55m\n"
     ]
    }
   ],
   "source": [
    "test_CDNN(learning_rate=0.05, n_epochs=1000, nkerns=[16, 512],\n",
    "        batch_size=200, verbose=True)"
   ]
  },
  {
   "cell_type": "markdown",
   "metadata": {},
   "source": [
    "The model outperformed that from the HW2 by a lot in both accuracy (12 more %) and in training time (roughly 1/4). Convolutional networks are solving theese kind of image recognition problems more efficiently then traditional MLP"
   ]
  },
  {
   "cell_type": "markdown",
   "metadata": {},
   "source": [
    "# Bonus problem"
   ]
  },
  {
   "cell_type": "markdown",
   "metadata": {},
   "source": [
    "#### Bullet 1: Fixed filters"
   ]
  },
  {
   "cell_type": "code",
   "execution_count": null,
   "metadata": {
    "collapsed": true
   },
   "outputs": [],
   "source": []
  },
  {
   "cell_type": "markdown",
   "metadata": {},
   "source": [
    "#### Bullet 2: CNN vs MLP"
   ]
  },
  {
   "cell_type": "markdown",
   "metadata": {},
   "source": [
    "For the bonus problem I implemented the same CNN as before with kernelshape 9x9 and 5x5, number of kernels were 16 and 512.\n",
    "The first layer after (2,2) pooling going to have 16*((32-9+1)/2)^2= 3136, while the second layer has 512 * 4 * 4=8192 neurons. The third layer for both are a fully connected layer for 500 neurons"
   ]
  },
  {
   "cell_type": "markdown",
   "metadata": {},
   "source": [
    "CNN"
   ]
  },
  {
   "cell_type": "code",
   "execution_count": 2,
   "metadata": {
    "collapsed": false
   },
   "outputs": [
    {
     "name": "stdout",
     "output_type": "stream",
     "text": [
      "... building the model\n",
      "... training\n",
      "training @ iter =  0\n",
      "training @ iter =  100\n",
      "training @ iter =  200\n",
      "training @ iter =  300\n",
      "training @ iter =  400\n",
      "training @ iter =  500\n",
      "epoch 1, minibatch 515/515, validation error 47.382127 %\n",
      "     epoch 1, minibatch 515/515, test error of best model 46.890394 %\n",
      "training @ iter =  600\n",
      "training @ iter =  700\n",
      "training @ iter =  800\n",
      "training @ iter =  900\n",
      "training @ iter =  1000\n",
      "epoch 2, minibatch 515/515, validation error 17.831689 %\n",
      "     epoch 2, minibatch 515/515, test error of best model 18.118842 %\n",
      "training @ iter =  1100\n",
      "training @ iter =  1200\n",
      "training @ iter =  1300\n",
      "training @ iter =  1400\n",
      "training @ iter =  1500\n",
      "epoch 3, minibatch 515/515, validation error 14.144737 %\n",
      "     epoch 3, minibatch 515/515, test error of best model 14.932266 %\n",
      "training @ iter =  1600\n",
      "training @ iter =  1700\n",
      "training @ iter =  1800\n",
      "training @ iter =  1900\n",
      "training @ iter =  2000\n",
      "epoch 4, minibatch 515/515, validation error 12.554825 %\n",
      "     epoch 4, minibatch 515/515, test error of best model 13.473676 %\n",
      "training @ iter =  2100\n",
      "training @ iter =  2200\n",
      "training @ iter =  2300\n",
      "training @ iter =  2400\n",
      "training @ iter =  2500\n",
      "epoch 5, minibatch 515/515, validation error 11.609101 %\n",
      "     epoch 5, minibatch 515/515, test error of best model 12.573122 %\n",
      "training @ iter =  2600\n",
      "training @ iter =  2700\n",
      "training @ iter =  2800\n",
      "training @ iter =  2900\n",
      "training @ iter =  3000\n",
      "epoch 6, minibatch 515/515, validation error 10.978618 %\n",
      "     epoch 6, minibatch 515/515, test error of best model 11.899631 %\n",
      "training @ iter =  3100\n",
      "training @ iter =  3200\n",
      "training @ iter =  3300\n",
      "training @ iter =  3400\n",
      "training @ iter =  3500\n",
      "training @ iter =  3600\n",
      "epoch 7, minibatch 515/515, validation error 10.635965 %\n",
      "     epoch 7, minibatch 515/515, test error of best model 11.514778 %\n",
      "training @ iter =  3700\n",
      "training @ iter =  3800\n",
      "training @ iter =  3900\n",
      "training @ iter =  4000\n",
      "training @ iter =  4100\n",
      "epoch 8, minibatch 515/515, validation error 10.416667 %\n",
      "     epoch 8, minibatch 515/515, test error of best model 11.264624 %\n",
      "training @ iter =  4200\n",
      "training @ iter =  4300\n",
      "training @ iter =  4400\n",
      "training @ iter =  4500\n",
      "training @ iter =  4600\n",
      "epoch 9, minibatch 515/515, validation error 10.032895 %\n",
      "     epoch 9, minibatch 515/515, test error of best model 10.995228 %\n",
      "training @ iter =  4700\n",
      "training @ iter =  4800\n",
      "training @ iter =  4900\n",
      "training @ iter =  5000\n",
      "training @ iter =  5100\n",
      "epoch 10, minibatch 515/515, validation error 9.950658 %\n",
      "     epoch 10, minibatch 515/515, test error of best model 10.764317 %\n",
      "training @ iter =  5200\n",
      "training @ iter =  5300\n",
      "training @ iter =  5400\n",
      "training @ iter =  5500\n",
      "training @ iter =  5600\n",
      "epoch 11, minibatch 515/515, validation error 9.717654 %\n",
      "     epoch 11, minibatch 515/515, test error of best model 10.729680 %\n",
      "training @ iter =  5700\n",
      "training @ iter =  5800\n",
      "training @ iter =  5900\n",
      "training @ iter =  6000\n",
      "training @ iter =  6100\n",
      "epoch 12, minibatch 515/515, validation error 9.621711 %\n",
      "     epoch 12, minibatch 515/515, test error of best model 10.668103 %\n",
      "training @ iter =  6200\n",
      "training @ iter =  6300\n",
      "training @ iter =  6400\n",
      "training @ iter =  6500\n",
      "training @ iter =  6600\n",
      "epoch 13, minibatch 515/515, validation error 9.580592 %\n",
      "     epoch 13, minibatch 515/515, test error of best model 10.575739 %\n",
      "training @ iter =  6700\n",
      "training @ iter =  6800\n",
      "training @ iter =  6900\n",
      "training @ iter =  7000\n",
      "training @ iter =  7100\n",
      "training @ iter =  7200\n",
      "epoch 14, minibatch 515/515, validation error 9.566886 %\n",
      "     epoch 14, minibatch 515/515, test error of best model 10.583436 %\n",
      "training @ iter =  7300\n",
      "training @ iter =  7400\n",
      "training @ iter =  7500\n",
      "training @ iter =  7600\n",
      "training @ iter =  7700\n",
      "epoch 15, minibatch 515/515, validation error 9.512061 %\n",
      "     epoch 15, minibatch 515/515, test error of best model 10.491071 %\n",
      "training @ iter =  7800\n",
      "training @ iter =  7900\n",
      "training @ iter =  8000\n",
      "training @ iter =  8100\n",
      "training @ iter =  8200\n",
      "epoch 16, minibatch 515/515, validation error 9.416118 %\n",
      "     epoch 16, minibatch 515/515, test error of best model 10.525708 %\n",
      "training @ iter =  8300\n",
      "training @ iter =  8400\n",
      "training @ iter =  8500\n",
      "training @ iter =  8600\n",
      "training @ iter =  8700\n",
      "epoch 17, minibatch 515/515, validation error 9.443531 %\n",
      "training @ iter =  8800\n",
      "training @ iter =  8900\n",
      "training @ iter =  9000\n",
      "training @ iter =  9100\n",
      "training @ iter =  9200\n",
      "epoch 18, minibatch 515/515, validation error 9.429825 %\n",
      "training @ iter =  9300\n",
      "training @ iter =  9400\n",
      "training @ iter =  9500\n",
      "training @ iter =  9600\n",
      "training @ iter =  9700\n",
      "epoch 19, minibatch 515/515, validation error 9.553180 %\n",
      "training @ iter =  9800\n",
      "training @ iter =  9900\n",
      "training @ iter =  10000\n",
      "Optimization complete.\n",
      "Best validation score of 9.416118 % obtained at iteration 8240, with test performance 10.525708 %\n"
     ]
    },
    {
     "name": "stderr",
     "output_type": "stream",
     "text": [
      "The training process for function test_lenet ran for 5.71m\n"
     ]
    }
   ],
   "source": [
    "test_lenet(learning_rate=0.05, n_epochs=1000, nkerns=[16, 512], kern_shape=[9,5],\n",
    "            batch_size=128, verbose=True)"
   ]
  },
  {
   "cell_type": "markdown",
   "metadata": {},
   "source": [
    "MLP with the same amaunt of neurons in each layer."
   ]
  },
  {
   "cell_type": "code",
   "execution_count": 4,
   "metadata": {
    "collapsed": false
   },
   "outputs": [
    {
     "name": "stdout",
     "output_type": "stream",
     "text": [
      "... building the model\n",
      "... training\n",
      "training @ iter =  0\n",
      "training @ iter =  100\n",
      "training @ iter =  200\n",
      "training @ iter =  300\n",
      "training @ iter =  400\n",
      "training @ iter =  500\n",
      "epoch 1, minibatch 515/515, validation error 81.154057 %\n",
      "     epoch 1, minibatch 515/515, test error of best model 80.407174 %\n",
      "training @ iter =  600\n",
      "training @ iter =  700\n",
      "training @ iter =  800\n",
      "training @ iter =  900\n",
      "training @ iter =  1000\n",
      "epoch 2, minibatch 515/515, validation error 74.766996 %\n",
      "     epoch 2, minibatch 515/515, test error of best model 74.695967 %\n",
      "training @ iter =  1100\n",
      "training @ iter =  1200\n",
      "training @ iter =  1300\n",
      "training @ iter =  1400\n",
      "training @ iter =  1500\n",
      "epoch 3, minibatch 515/515, validation error 73.341557 %\n",
      "     epoch 3, minibatch 515/515, test error of best model 73.856989 %\n",
      "training @ iter =  1600\n",
      "training @ iter =  1700\n",
      "training @ iter =  1800\n",
      "training @ iter =  1900\n",
      "training @ iter =  2000\n",
      "epoch 4, minibatch 515/515, validation error 44.298246 %\n",
      "     epoch 4, minibatch 515/515, test error of best model 46.894243 %\n",
      "training @ iter =  2100\n",
      "training @ iter =  2200\n",
      "training @ iter =  2300\n",
      "training @ iter =  2400\n",
      "training @ iter =  2500\n",
      "epoch 5, minibatch 515/515, validation error 46.408991 %\n",
      "training @ iter =  2600\n",
      "training @ iter =  2700\n",
      "training @ iter =  2800\n",
      "training @ iter =  2900\n",
      "training @ iter =  3000\n",
      "epoch 6, minibatch 515/515, validation error 35.868969 %\n",
      "     epoch 6, minibatch 515/515, test error of best model 37.857913 %\n",
      "training @ iter =  3100\n",
      "training @ iter =  3200\n",
      "training @ iter =  3300\n",
      "training @ iter =  3400\n",
      "training @ iter =  3500\n",
      "training @ iter =  3600\n",
      "epoch 7, minibatch 515/515, validation error 30.482456 %\n",
      "     epoch 7, minibatch 515/515, test error of best model 32.227525 %\n",
      "training @ iter =  3700\n",
      "training @ iter =  3800\n",
      "training @ iter =  3900\n",
      "training @ iter =  4000\n",
      "training @ iter =  4100\n",
      "epoch 8, minibatch 515/515, validation error 29.495614 %\n",
      "     epoch 8, minibatch 515/515, test error of best model 31.296182 %\n",
      "training @ iter =  4200\n",
      "training @ iter =  4300\n",
      "training @ iter =  4400\n",
      "training @ iter =  4500\n",
      "training @ iter =  4600\n",
      "epoch 9, minibatch 515/515, validation error 26.959978 %\n",
      "     epoch 9, minibatch 515/515, test error of best model 28.752309 %\n",
      "training @ iter =  4700\n",
      "training @ iter =  4800\n",
      "training @ iter =  4900\n",
      "training @ iter =  5000\n",
      "training @ iter =  5100\n",
      "epoch 10, minibatch 515/515, validation error 25.781250 %\n",
      "     epoch 10, minibatch 515/515, test error of best model 27.767087 %\n",
      "training @ iter =  5200\n",
      "training @ iter =  5300\n",
      "training @ iter =  5400\n",
      "training @ iter =  5500\n",
      "training @ iter =  5600\n",
      "epoch 11, minibatch 515/515, validation error 24.739583 %\n",
      "     epoch 11, minibatch 515/515, test error of best model 26.697198 %\n",
      "training @ iter =  5700\n",
      "training @ iter =  5800\n",
      "training @ iter =  5900\n",
      "training @ iter =  6000\n",
      "training @ iter =  6100\n",
      "epoch 12, minibatch 515/515, validation error 24.808114 %\n",
      "training @ iter =  6200\n",
      "training @ iter =  6300\n",
      "training @ iter =  6400\n",
      "training @ iter =  6500\n",
      "training @ iter =  6600\n",
      "epoch 13, minibatch 515/515, validation error 22.327303 %\n",
      "     epoch 13, minibatch 515/515, test error of best model 24.476601 %\n",
      "training @ iter =  6700\n",
      "training @ iter =  6800\n",
      "training @ iter =  6900\n",
      "training @ iter =  7000\n",
      "training @ iter =  7100\n",
      "training @ iter =  7200\n",
      "epoch 14, minibatch 515/515, validation error 21.655702 %\n",
      "     epoch 14, minibatch 515/515, test error of best model 23.949353 %\n",
      "training @ iter =  7300\n",
      "training @ iter =  7400\n",
      "training @ iter =  7500\n",
      "training @ iter =  7600\n",
      "training @ iter =  7700\n",
      "epoch 15, minibatch 515/515, validation error 21.285636 %\n",
      "     epoch 15, minibatch 515/515, test error of best model 23.302802 %\n",
      "training @ iter =  7800\n",
      "training @ iter =  7900\n",
      "training @ iter =  8000\n",
      "training @ iter =  8100\n",
      "training @ iter =  8200\n",
      "epoch 16, minibatch 515/515, validation error 21.066338 %\n",
      "     epoch 16, minibatch 515/515, test error of best model 22.829433 %\n",
      "training @ iter =  8300\n",
      "training @ iter =  8400\n",
      "training @ iter =  8500\n",
      "training @ iter =  8600\n",
      "training @ iter =  8700\n",
      "epoch 17, minibatch 515/515, validation error 21.436404 %\n",
      "training @ iter =  8800\n",
      "training @ iter =  8900\n",
      "training @ iter =  9000\n",
      "training @ iter =  9100\n",
      "training @ iter =  9200\n",
      "epoch 18, minibatch 515/515, validation error 20.723684 %\n",
      "     epoch 18, minibatch 515/515, test error of best model 22.329126 %\n",
      "training @ iter =  9300\n",
      "training @ iter =  9400\n",
      "training @ iter =  9500\n",
      "training @ iter =  9600\n",
      "training @ iter =  9700\n",
      "epoch 19, minibatch 515/515, validation error 20.915570 %\n",
      "training @ iter =  9800\n",
      "training @ iter =  9900\n",
      "training @ iter =  10000\n",
      "Optimization complete.\n",
      "Best validation score of 20.723684 % obtained at iteration 9270, with test performance 22.329126 %\n"
     ]
    },
    {
     "name": "stderr",
     "output_type": "stream",
     "text": [
      "The training process for function test_mlp ran for 6.03m\n"
     ]
    }
   ],
   "source": [
    "test_mlp(learning_rate=0.05, L1_reg=0.00, L2_reg=0.00, n_epochs=200,\n",
    "             batch_size=128, n_hidden=[3136, 8192, 500], n_hiddenLayers=3,\n",
    "             verbose=True, smaller_set=False)"
   ]
  },
  {
   "cell_type": "markdown",
   "metadata": {},
   "source": [
    "Runnin an MLP with the same amaunt of neurons not only create inferior prediction (12% less), but also need more computation time. This is true because many neuron in the convolutional layer share the same parameters, wheras an MLP is fully connected.\n",
    "Furthermore, if I would want to be more exect, the number of neurons in the convolutional layer should be calculate before pooling, so the correct numbers are 16 * ( 33 - 9 ) * ( 33 - 9 ) = 9216 and512 * ( 12 - 5 + 1 ) * ( 12 - 5 + 1 ) = 4096 neurons, which are even more and takes more time to calcukate the model."
   ]
  },
  {
   "cell_type": "code",
   "execution_count": 3,
   "metadata": {
    "collapsed": false
   },
   "outputs": [
    {
     "name": "stdout",
     "output_type": "stream",
     "text": [
      "... building the model\n",
      "... training\n",
      "training @ iter =  0\n",
      "training @ iter =  100\n",
      "training @ iter =  200\n",
      "training @ iter =  300\n",
      "training @ iter =  400\n",
      "training @ iter =  500\n",
      "epoch 1, minibatch 515/515, validation error 81.154057 %\n",
      "     epoch 1, minibatch 515/515, test error of best model 80.403325 %\n",
      "training @ iter =  600\n",
      "training @ iter =  700\n",
      "training @ iter =  800\n",
      "training @ iter =  900\n",
      "training @ iter =  1000\n",
      "epoch 2, minibatch 515/515, validation error 70.326206 %\n",
      "     epoch 2, minibatch 515/515, test error of best model 70.216287 %\n",
      "training @ iter =  1100\n",
      "training @ iter =  1200\n",
      "training @ iter =  1300\n",
      "training @ iter =  1400\n",
      "training @ iter =  1500\n",
      "epoch 3, minibatch 515/515, validation error 60.032895 %\n",
      "     epoch 3, minibatch 515/515, test error of best model 61.280018 %\n",
      "training @ iter =  1600\n",
      "training @ iter =  1700\n",
      "training @ iter =  1800\n",
      "training @ iter =  1900\n",
      "training @ iter =  2000\n",
      "epoch 4, minibatch 515/515, validation error 47.231360 %\n",
      "     epoch 4, minibatch 515/515, test error of best model 49.715209 %\n",
      "training @ iter =  2100\n",
      "training @ iter =  2200\n",
      "training @ iter =  2300\n",
      "training @ iter =  2400\n",
      "training @ iter =  2500\n",
      "epoch 5, minibatch 515/515, validation error 41.063596 %\n",
      "     epoch 5, minibatch 515/515, test error of best model 43.322814 %\n",
      "training @ iter =  2600\n",
      "training @ iter =  2700\n",
      "training @ iter =  2800\n",
      "training @ iter =  2900\n",
      "training @ iter =  3000\n",
      "epoch 6, minibatch 515/515, validation error 31.661184 %\n",
      "     epoch 6, minibatch 515/515, test error of best model 33.959360 %\n",
      "training @ iter =  3100\n",
      "training @ iter =  3200\n",
      "training @ iter =  3300\n",
      "training @ iter =  3400\n",
      "training @ iter =  3500\n",
      "training @ iter =  3600\n",
      "epoch 7, minibatch 515/515, validation error 28.892544 %\n",
      "     epoch 7, minibatch 515/515, test error of best model 31.257697 %\n",
      "training @ iter =  3700\n",
      "training @ iter =  3800\n",
      "training @ iter =  3900\n",
      "training @ iter =  4000\n",
      "training @ iter =  4100\n",
      "epoch 8, minibatch 515/515, validation error 31.387061 %\n",
      "training @ iter =  4200\n",
      "training @ iter =  4300\n",
      "training @ iter =  4400\n",
      "training @ iter =  4500\n",
      "training @ iter =  4600\n",
      "epoch 9, minibatch 515/515, validation error 31.195175 %\n",
      "training @ iter =  4700\n",
      "training @ iter =  4800\n",
      "training @ iter =  4900\n",
      "training @ iter =  5000\n",
      "training @ iter =  5100\n",
      "epoch 10, minibatch 515/515, validation error 26.315789 %\n",
      "     epoch 10, minibatch 515/515, test error of best model 27.859452 %\n",
      "training @ iter =  5200\n",
      "training @ iter =  5300\n",
      "training @ iter =  5400\n",
      "training @ iter =  5500\n",
      "training @ iter =  5600\n",
      "epoch 11, minibatch 515/515, validation error 26.631031 %\n",
      "training @ iter =  5700\n",
      "training @ iter =  5800\n",
      "training @ iter =  5900\n",
      "training @ iter =  6000\n",
      "training @ iter =  6100\n",
      "epoch 12, minibatch 515/515, validation error 24.273575 %\n",
      "     epoch 12, minibatch 515/515, test error of best model 26.173799 %\n",
      "training @ iter =  6200\n",
      "training @ iter =  6300\n",
      "training @ iter =  6400\n",
      "training @ iter =  6500\n",
      "training @ iter =  6600\n",
      "epoch 13, minibatch 515/515, validation error 25.424890 %\n",
      "training @ iter =  6700\n",
      "training @ iter =  6800\n",
      "training @ iter =  6900\n",
      "training @ iter =  7000\n",
      "training @ iter =  7100\n",
      "training @ iter =  7200\n",
      "epoch 14, minibatch 515/515, validation error 23.382675 %\n",
      "     epoch 14, minibatch 515/515, test error of best model 24.861453 %\n",
      "training @ iter =  7300\n",
      "training @ iter =  7400\n",
      "training @ iter =  7500\n",
      "training @ iter =  7600\n",
      "training @ iter =  7700\n",
      "epoch 15, minibatch 515/515, validation error 23.506031 %\n",
      "training @ iter =  7800\n",
      "training @ iter =  7900\n",
      "training @ iter =  8000\n",
      "training @ iter =  8100\n",
      "training @ iter =  8200\n",
      "epoch 16, minibatch 515/515, validation error 24.163925 %\n",
      "training @ iter =  8300\n",
      "training @ iter =  8400\n",
      "training @ iter =  8500\n",
      "training @ iter =  8600\n",
      "training @ iter =  8700\n",
      "epoch 17, minibatch 515/515, validation error 22.203947 %\n",
      "     epoch 17, minibatch 515/515, test error of best model 23.833898 %\n",
      "training @ iter =  8800\n",
      "training @ iter =  8900\n",
      "training @ iter =  9000\n",
      "training @ iter =  9100\n",
      "training @ iter =  9200\n",
      "epoch 18, minibatch 515/515, validation error 22.368421 %\n",
      "training @ iter =  9300\n",
      "training @ iter =  9400\n",
      "training @ iter =  9500\n",
      "training @ iter =  9600\n",
      "training @ iter =  9700\n",
      "epoch 19, minibatch 515/515, validation error 22.149123 %\n",
      "     epoch 19, minibatch 515/515, test error of best model 23.202740 %\n",
      "training @ iter =  9800\n",
      "training @ iter =  9900\n",
      "training @ iter =  10000\n",
      "Optimization complete.\n",
      "Best validation score of 22.149123 % obtained at iteration 9785, with test performance 23.202740 %\n"
     ]
    },
    {
     "name": "stderr",
     "output_type": "stream",
     "text": [
      "The training process for function test_mlp ran for 13.88m\n"
     ]
    }
   ],
   "source": [
    "test_mlp(learning_rate=0.05, L1_reg=0.00, L2_reg=0.00, n_epochs=200,\n",
    "             batch_size=128, n_hidden=[9216, 4096, 500], n_hiddenLayers=3,\n",
    "             verbose=True, smaller_set=False)"
   ]
  },
  {
   "cell_type": "markdown",
   "metadata": {},
   "source": [
    "The computation time further increased due to the increased number of neurons which all have their individual weights. It ran more then 2 times longer. The convolutional network is going to be always faster with the same amaunt of neurons due to the fact that certainneurons share the same weights (kernels)."
   ]
  }
 ],
 "metadata": {
  "kernelspec": {
   "display_name": "Python 2",
   "language": "python",
   "name": "python2"
  },
  "language_info": {
   "codemirror_mode": {
    "name": "ipython",
    "version": 2
   },
   "file_extension": ".py",
   "mimetype": "text/x-python",
   "name": "python",
   "nbconvert_exporter": "python",
   "pygments_lexer": "ipython2",
   "version": "2.7.11"
  }
 },
 "nbformat": 4,
 "nbformat_minor": 0
}
