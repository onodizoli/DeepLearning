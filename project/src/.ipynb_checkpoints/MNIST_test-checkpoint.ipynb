{
 "cells": [
  {
   "cell_type": "code",
   "execution_count": 1,
   "metadata": {
    "collapsed": false
   },
   "outputs": [
    {
     "name": "stderr",
     "output_type": "stream",
     "text": [
      "Using gpu device 0: GRID K520\n"
     ]
    }
   ],
   "source": [
    "import matplotlib\n",
    "import pylab\n",
    "import numpy as np\n",
    "%matplotlib inline\n",
    "from project_mnist import test_dropout\n",
    "from project_utils import load_mnist\n",
    "from pylab import imshow, show, cm"
   ]
  },
  {
   "cell_type": "code",
   "execution_count": 11,
   "metadata": {
    "collapsed": false
   },
   "outputs": [],
   "source": [
    "data = load_mnist(theano_shared=False)"
   ]
  },
  {
   "cell_type": "code",
   "execution_count": 14,
   "metadata": {
    "collapsed": false
   },
   "outputs": [],
   "source": [
    "a, b = data[0]"
   ]
  },
  {
   "cell_type": "code",
   "execution_count": 18,
   "metadata": {
    "collapsed": false
   },
   "outputs": [
    {
     "data": {
      "text/plain": [
       "(54000, 784)"
      ]
     },
     "execution_count": 18,
     "metadata": {},
     "output_type": "execute_result"
    }
   ],
   "source": [
    "a.shape"
   ]
  },
  {
   "cell_type": "code",
   "execution_count": 17,
   "metadata": {
    "collapsed": true
   },
   "outputs": [],
   "source": [
    "from pylab import imshow, show, cm"
   ]
  },
  {
   "cell_type": "code",
   "execution_count": 26,
   "metadata": {
    "collapsed": false
   },
   "outputs": [
    {
     "data": {
      "image/png": "[encoded data removed]",
      "text/plain": [
       "<matplotlib.figure.Figure at 0x7f2b5fbcb490>"
      ]
     },
     "metadata": {},
     "output_type": "display_data"
    },
    {
     "data": {
      "text/plain": [
       "1"
      ]
     },
     "execution_count": 26,
     "metadata": {},
     "output_type": "execute_result"
    }
   ],
   "source": [
    "i = 102\n",
    "imshow(a[i,:].reshape(28,28), cmap=cm.gray)\n",
    "show()\n",
    "b[i]"
   ]
  },
  {
   "cell_type": "code",
   "execution_count": 3,
   "metadata": {
    "collapsed": false
   },
   "outputs": [
    {
     "name": "stdout",
     "output_type": "stream",
     "text": [
      "... building the model\n",
      "<function relu at 0x7f63a01a7488>\n",
      "... training\n",
      "training @ iter =  0\n",
      "training @ iter =  100\n",
      "training @ iter =  200\n",
      "training @ iter =  300\n",
      "training @ iter =  400\n",
      "epoch 1, minibatch 421/421, validation error 88.417120 %\n",
      "     epoch 1, minibatch 421/421, test error of best model 87.670272 %\n",
      "training @ iter =  500\n",
      "training @ iter =  600\n",
      "training @ iter =  700\n",
      "training @ iter =  800\n",
      "epoch 2, minibatch 421/421, validation error 83.203125 %\n",
      "     epoch 2, minibatch 421/421, test error of best model 82.602163 %\n",
      "training @ iter =  900\n",
      "training @ iter =  1000\n",
      "training @ iter =  1100\n",
      "training @ iter =  1200\n",
      "epoch 3, minibatch 421/421, validation error 72.469429 %\n",
      "     epoch 3, minibatch 421/421, test error of best model 71.233974 %\n",
      "training @ iter =  1300\n",
      "training @ iter =  1400\n",
      "training @ iter =  1500\n",
      "training @ iter =  1600\n",
      "epoch 4, minibatch 421/421, validation error 69.955842 %\n",
      "     epoch 4, minibatch 421/421, test error of best model 69.391026 %\n",
      "training @ iter =  1700\n",
      "training @ iter =  1800\n",
      "training @ iter =  1900\n",
      "training @ iter =  2000\n",
      "training @ iter =  2100\n",
      "epoch 5, minibatch 421/421, validation error 67.968750 %\n",
      "     epoch 5, minibatch 421/421, test error of best model 68.118990 %\n",
      "training @ iter =  2200\n",
      "training @ iter =  2300\n",
      "training @ iter =  2400\n",
      "training @ iter =  2500\n",
      "epoch 6, minibatch 421/421, validation error 62.737772 %\n",
      "     epoch 6, minibatch 421/421, test error of best model 61.688702 %\n",
      "training @ iter =  2600\n",
      "training @ iter =  2700\n",
      "training @ iter =  2800\n",
      "training @ iter =  2900\n",
      "epoch 7, minibatch 421/421, validation error 57.625679 %\n",
      "     epoch 7, minibatch 421/421, test error of best model 59.044471 %\n",
      "training @ iter =  3000\n",
      "training @ iter =  3100\n",
      "training @ iter =  3200\n",
      "training @ iter =  3300\n",
      "epoch 8, minibatch 421/421, validation error 54.025136 %\n",
      "     epoch 8, minibatch 421/421, test error of best model 55.989583 %\n",
      "training @ iter =  3400\n",
      "training @ iter =  3500\n",
      "training @ iter =  3600\n",
      "training @ iter =  3700\n",
      "epoch 9, minibatch 421/421, validation error 51.137908 %\n",
      "     epoch 9, minibatch 421/421, test error of best model 53.044872 %\n",
      "training @ iter =  3800\n",
      "training @ iter =  3900\n",
      "training @ iter =  4000\n",
      "training @ iter =  4100\n",
      "training @ iter =  4200\n",
      "epoch 10, minibatch 421/421, validation error 50.985054 %\n",
      "     epoch 10, minibatch 421/421, test error of best model 51.492388 %\n",
      "training @ iter =  4300\n",
      "training @ iter =  4400\n",
      "training @ iter =  4500\n",
      "training @ iter =  4600\n",
      "epoch 11, minibatch 421/421, validation error 49.371603 %\n",
      "     epoch 11, minibatch 421/421, test error of best model 50.000000 %\n",
      "training @ iter =  4700\n",
      "training @ iter =  4800\n",
      "training @ iter =  4900\n",
      "training @ iter =  5000\n",
      "epoch 12, minibatch 421/421, validation error 50.050951 %\n",
      "training @ iter =  5100\n",
      "training @ iter =  5200\n",
      "training @ iter =  5300\n",
      "training @ iter =  5400\n",
      "epoch 13, minibatch 421/421, validation error 43.716033 %\n",
      "     epoch 13, minibatch 421/421, test error of best model 44.631410 %\n",
      "training @ iter =  5500\n",
      "training @ iter =  5600\n",
      "training @ iter =  5700\n",
      "training @ iter =  5800\n",
      "epoch 14, minibatch 421/421, validation error 42.153533 %\n",
      "     epoch 14, minibatch 421/421, test error of best model 43.980369 %\n",
      "training @ iter =  5900\n",
      "training @ iter =  6000\n",
      "training @ iter =  6100\n",
      "training @ iter =  6200\n",
      "training @ iter =  6300\n",
      "epoch 15, minibatch 421/421, validation error 37.550951 %\n",
      "     epoch 15, minibatch 421/421, test error of best model 38.241186 %\n",
      "training @ iter =  6400\n",
      "training @ iter =  6500\n",
      "training @ iter =  6600\n",
      "training @ iter =  6700\n",
      "epoch 16, minibatch 421/421, validation error 30.655571 %\n",
      "     epoch 16, minibatch 421/421, test error of best model 30.949519 %\n",
      "training @ iter =  6800\n",
      "training @ iter =  6900\n",
      "training @ iter =  7000\n",
      "training @ iter =  7100\n",
      "epoch 17, minibatch 421/421, validation error 24.014946 %\n",
      "     epoch 17, minibatch 421/421, test error of best model 27.413862 %\n",
      "training @ iter =  7200\n",
      "training @ iter =  7300\n",
      "training @ iter =  7400\n",
      "training @ iter =  7500\n",
      "epoch 18, minibatch 421/421, validation error 23.131793 %\n",
      "     epoch 18, minibatch 421/421, test error of best model 24.479167 %\n",
      "training @ iter =  7600\n",
      "training @ iter =  7700\n",
      "training @ iter =  7800\n",
      "training @ iter =  7900\n",
      "epoch 19, minibatch 421/421, validation error 21.246603 %\n",
      "     epoch 19, minibatch 421/421, test error of best model 22.375801 %\n",
      "training @ iter =  8000\n",
      "training @ iter =  8100\n",
      "training @ iter =  8200\n",
      "training @ iter =  8300\n",
      "training @ iter =  8400\n",
      "epoch 20, minibatch 421/421, validation error 18.817935 %\n",
      "     epoch 20, minibatch 421/421, test error of best model 21.254006 %\n",
      "training @ iter =  8500\n",
      "training @ iter =  8600\n",
      "training @ iter =  8700\n",
      "training @ iter =  8800\n",
      "epoch 21, minibatch 421/421, validation error 19.174592 %\n",
      "training @ iter =  8900\n",
      "training @ iter =  9000\n",
      "training @ iter =  9100\n",
      "training @ iter =  9200\n",
      "epoch 22, minibatch 421/421, validation error 18.121603 %\n",
      "     epoch 22, minibatch 421/421, test error of best model 19.871795 %\n",
      "training @ iter =  9300\n",
      "training @ iter =  9400\n",
      "training @ iter =  9500\n",
      "training @ iter =  9600\n",
      "epoch 23, minibatch 421/421, validation error 16.474185 %\n",
      "     epoch 23, minibatch 421/421, test error of best model 18.249199 %\n",
      "training @ iter =  9700\n",
      "training @ iter =  9800\n",
      "training @ iter =  9900\n",
      "training @ iter =  10000\n",
      "training @ iter =  10100\n",
      "epoch 24, minibatch 421/421, validation error 16.287364 %\n",
      "     epoch 24, minibatch 421/421, test error of best model 17.317708 %\n",
      "training @ iter =  10200\n",
      "training @ iter =  10300\n",
      "training @ iter =  10400\n",
      "training @ iter =  10500\n",
      "epoch 25, minibatch 421/421, validation error 15.268342 %\n",
      "     epoch 25, minibatch 421/421, test error of best model 17.197516 %\n",
      "training @ iter =  10600\n",
      "training @ iter =  10700\n",
      "training @ iter =  10800\n",
      "training @ iter =  10900\n",
      "epoch 26, minibatch 421/421, validation error 13.722826 %\n",
      "     epoch 26, minibatch 421/421, test error of best model 16.125801 %\n",
      "training @ iter =  11000\n",
      "training @ iter =  11100\n",
      "training @ iter =  11200\n",
      "training @ iter =  11300\n",
      "epoch 27, minibatch 421/421, validation error 13.977582 %\n",
      "training @ iter =  11400\n",
      "training @ iter =  11500\n",
      "training @ iter =  11600\n",
      "training @ iter =  11700\n",
      "epoch 28, minibatch 421/421, validation error 12.262228 %\n",
      "     epoch 28, minibatch 421/421, test error of best model 14.733574 %\n",
      "training @ iter =  11800\n",
      "training @ iter =  11900\n",
      "training @ iter =  12000\n",
      "training @ iter =  12100\n",
      "training @ iter =  12200\n",
      "epoch 29, minibatch 421/421, validation error 13.162364 %\n",
      "training @ iter =  12300\n",
      "training @ iter =  12400\n",
      "training @ iter =  12500\n",
      "training @ iter =  12600\n",
      "epoch 30, minibatch 421/421, validation error 12.313179 %\n",
      "training @ iter =  12700\n",
      "training @ iter =  12800\n",
      "training @ iter =  12900\n",
      "training @ iter =  13000\n",
      "epoch 31, minibatch 421/421, validation error 11.735734 %\n",
      "     epoch 31, minibatch 421/421, test error of best model 13.611779 %\n",
      "training @ iter =  13100\n",
      "training @ iter =  13200\n",
      "training @ iter =  13300\n",
      "training @ iter =  13400\n",
      "epoch 32, minibatch 421/421, validation error 11.616848 %\n",
      "     epoch 32, minibatch 421/421, test error of best model 13.131010 %\n",
      "training @ iter =  13500\n",
      "training @ iter =  13600\n",
      "training @ iter =  13700\n",
      "training @ iter =  13800\n",
      "epoch 33, minibatch 421/421, validation error 10.648777 %\n",
      "     epoch 33, minibatch 421/421, test error of best model 12.429888 %\n",
      "training @ iter =  13900\n",
      "training @ iter =  14000\n",
      "training @ iter =  14100\n",
      "training @ iter =  14200\n",
      "training @ iter =  14300\n",
      "Optimization complete.\n",
      "Best validation score of 10.648777 % obtained at iteration 13893, with test performance 12.429888 %\n"
     ]
    },
    {
     "name": "stderr",
     "output_type": "stream",
     "text": [
      "The training process for function test_dropout ran for 5.41m\n"
     ]
    }
   ],
   "source": [
    "test_dropout(learning_rate=0.001, L1_reg=0.00, L2_reg=0.00, n_epochs=400,\n",
    "             batch_size=128, n_hidden=400, n_hiddenLayers=2,\n",
    "             verbose=True, smaller_set=True, activation ='relu', momentum =0.9)"
   ]
  },
  {
   "cell_type": "code",
   "execution_count": null,
   "metadata": {
    "collapsed": true
   },
   "outputs": [],
   "source": []
  }
 ],
 "metadata": {
  "kernelspec": {
   "display_name": "Python 2",
   "language": "python",
   "name": "python2"
  },
  "language_info": {
   "codemirror_mode": {
    "name": "ipython",
    "version": 2
   },
   "file_extension": ".py",
   "mimetype": "text/x-python",
   "name": "python",
   "nbconvert_exporter": "python",
   "pygments_lexer": "ipython2",
   "version": "2.7.11"
  }
 },
 "nbformat": 4,
 "nbformat_minor": 0
}
